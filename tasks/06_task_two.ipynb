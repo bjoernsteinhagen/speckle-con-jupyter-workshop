{
 "cells": [
  {
   "cell_type": "markdown",
   "metadata": {},
   "source": [
    "## 🍃 Carbon Calculation Chaos\n",
    "The basic formula for calculating embodied carbon is:\n",
    "\n",
    "$$\n",
    "\\text{Embodied Carbon} = \\sum \\left(\\text{Material Quantity} \\times \\text{Emission Factor}\\right)\n",
    "$$\n",
    "\n",
    "Where:\n",
    "- **Material Quantity** is the amount of each construction material.\n",
    "- **Emission Factor** is the carbon intensity of each material (e.g., kgCO₂e per unit of material).\n",
    "\n",
    "For the **Aquatics Centre** project, we are tasked at providing a high-level computation of the embodied carbon based on the above formula.\n",
    "\n",
    "Equation variables:\n",
    "- **Material Quantity** is obtained from the geometric Revit model. Volume (m³)(from Revit) multiplied by the density (kg/m³)(known) returns mass (kg).\n",
    "- **Emission Factor** is provided in tabular form (from Excel) in kgCO₂e/kg."
   ]
  },
  {
   "cell_type": "markdown",
   "metadata": {},
   "source": [
    "#### 🏃 Step 01 - Receiving commit in a condensed fashion"
   ]
  },
  {
   "cell_type": "code",
   "execution_count": null,
   "metadata": {},
   "outputs": [],
   "source": [
    "# Import required libraries\n",
    "from specklepy.api.client import SpeckleClient\n",
    "from specklepy.core.api import operations\n",
    "from specklepy.transports.server import ServerTransport\n",
    "\n",
    "# Define global variables \n",
    "HOST = \"https://app.speckle.systems/\"\n",
    "AUTHENTICATION_TOKEN = \"\"\n",
    "STREAM_ID = \"\"\n",
    "BRANCH_NAME = \"\"\n",
    "\n",
    "# Setting up SpeckleClient and authenticating\n",
    "client = SpeckleClient(host=HOST)\n",
    "client.authenticate_with_token(token=AUTHENTICATION_TOKEN)\n",
    "\n",
    "# Receving commit\n",
    "transport = ServerTransport(STREAM_ID, client)\n",
    "branch = client.branch.get(stream_id=STREAM_ID, name=BRANCH_NAME)\n",
    "model_data = operations.receive(branch.commits.items[0].referencedObject, transport)"
   ]
  },
  {
   "cell_type": "markdown",
   "metadata": {},
   "source": [
    "#### 🔍 Step 02 - Where To Start?\n",
    "Maybe the question is, where on earth do I even start??\n",
    "* `model_data` is at the root of our commit, below visualized as the `structural` object\n",
    "* `elements` represents the Revit objects grouped by their types (Walls, Columns etc.)\n",
    "* We want to build a dataframe of all object types relevant for our basic calculation\n",
    "* A safe function to retrieve the attribute is Python's `gettattr()` function, which allows us to do some sort of \"error-handling\" "
   ]
  },
  {
   "cell_type": "markdown",
   "metadata": {},
   "source": [
    "![alt text](<Screenshot 2024-11-14 093304.png>)"
   ]
  },
  {
   "cell_type": "code",
   "execution_count": null,
   "metadata": {},
   "outputs": [],
   "source": [
    "# Using the above explanation, we can very easily obtain our model objects\n",
    "elements = getattr(model_data, \"elements\", None)\n",
    "\n",
    "if elements:\n",
    "    print(\"Success! We have elements, now we can proceed with filtering.\")\n",
    "    assert len(elements) == 10 # The size of the array (from the screenshot) indicates, that their should be 10 different groups. NOTE: It is usually not a good idea to hard-code these numbers as we have variability from version to version "
   ]
  },
  {
   "cell_type": "markdown",
   "metadata": {},
   "source": [
    "####  ⏳ Step 03 - Filter our RVT data\n",
    "So, we have an array of **ALL** objects. But, we want to just have the elements relevant to our calculation. How do we go about this?\n",
    "* Each `element` within `elements` has a `name` property.\n",
    "* What names (i.e. categories) do we have?"
   ]
  },
  {
   "cell_type": "code",
   "execution_count": null,
   "metadata": {},
   "outputs": [],
   "source": [
    "print([element.name for element in elements])"
   ]
  },
  {
   "cell_type": "markdown",
   "metadata": {},
   "source": [
    "For our calculation, we are just looking at the basic structural objects. Using some basic list comprehension, we can filter our `elements` list for just the information of interest to us."
   ]
  },
  {
   "cell_type": "code",
   "execution_count": null,
   "metadata": {},
   "outputs": [],
   "source": [
    "# Some basic filtering\n",
    "wanted_elements = [\"Structural Foundation\", \"Walls\", \"Structural Columns\", \"Floors\"]\n",
    "filtered_elements = [element for element in elements if element.name in wanted_elements]"
   ]
  },
  {
   "cell_type": "markdown",
   "metadata": {},
   "source": [
    "####  🐼 Step 04 - Thinking about our Pandas Dataframe / Data Structure\n",
    "- A well-organised dataframe makes post-processing, computations, groupings and other insights easy to obtain.\n",
    "- The information may be structured as follows:"
   ]
  },
  {
   "cell_type": "code",
   "execution_count": null,
   "metadata": {},
   "outputs": [],
   "source": [
    "import pandas as pd\n",
    "from IPython.display import display\n",
    "\n",
    "# List of headers\n",
    "headers = [\"id\", \"category\", \"level\", \"material\", \"volume\", \"density\", \"mass\", \"emission_factor\", \"embodied_carbon\"]\n",
    "\n",
    "# Create an empty DataFrame with the specified headers\n",
    "df = pd.DataFrame(columns=headers)\n",
    "display(df)"
   ]
  },
  {
   "cell_type": "markdown",
   "metadata": {},
   "source": [
    "#### 🔩 Step 05 - Reinforcing some Structural Concepts\n",
    "- Reinforced concrete elements are comprised of two materials: concrete and steel\n",
    "- Both materials have separate emission factors and thus need to be separated for our computations\n",
    "- Thankfully, the Excel \"model\" provides us with reinforcment rates as a way to estimate the quantity of reinforcing steel in a concrete element\n",
    "- Concrete volume (m³) x Reinforcement rate (kg/m³) = Steel mass (kg)"
   ]
  },
  {
   "cell_type": "code",
   "execution_count": null,
   "metadata": {},
   "outputs": [],
   "source": [
    "# Receiving the Excel data\n",
    "branch = client.branch.get(stream_id=STREAM_ID, name=\"database\")\n",
    "model_data = operations.receive(branch.commits.items[0].referencedObject, transport)\n",
    "emission_factor_data = model_data.data\n",
    "emission_factor_data"
   ]
  },
  {
   "cell_type": "markdown",
   "metadata": {},
   "source": [
    "#### 🔨 Step 06 - Building our Pandas Dataframe\n",
    "Looping through (primitive, I know) the elements and poppulating the dataframe accordingly. Thankfully, our range of materials is limited making conditional statements simple. For concrete elements, we need an extra step to split between concrete and steel.\n",
    "\n",
    "The \"loop logic\" looks as follows:\n",
    "- Determine material type\n",
    "- Using the material and object type (or group), supplement information with the density and emission factor from the Excel data\n",
    "- If concrete, compute mass of steel add row data for both materials."
   ]
  },
  {
   "cell_type": "markdown",
   "metadata": {},
   "source": [
    "##### Category Mapping\n",
    "First, let's define a dictionary that helps map categories like 'Walls', 'Floors', etc., to specific elements in the emission factor data.\n",
    "\n",
    "This mapping will allow us to link the categories from the `filtered_elements` with the corresponding element types in the emission factor data. For example, 'Walls' could be mapped to both 'walls' and 'non-structural walls'."
   ]
  },
  {
   "cell_type": "code",
   "execution_count": null,
   "metadata": {},
   "outputs": [],
   "source": [
    "# Category mapping dictionary\n",
    "category_mapping = {\n",
    "    'Structural Foundation': 'rafts',\n",
    "    'Walls': ['walls', 'non-structural walls'],\n",
    "    'Structural Columns': 'columns',\n",
    "    'Floors': 'slabs'\n",
    "}"
   ]
  },
  {
   "cell_type": "markdown",
   "metadata": {},
   "source": [
    "##### Emission Factor Data Lookup\n",
    "We will convert the `emission_factor_data` into a dictionary for quick lookups. This allows us to retrieve emission factor data based on the combination of the element type and material.\n",
    "\n",
    "The key of this dictionary is a tuple `(element_type, material)`, and the value is the emission factor data for that combination."
   ]
  },
  {
   "cell_type": "code",
   "execution_count": null,
   "metadata": {},
   "outputs": [],
   "source": [
    "# Convert emission factor data into a dictionary for quick lookup\n",
    "emission_lookup = {\n",
    "    (entry['element'], entry['material']): entry for entry in emission_factor_data\n",
    "}"
   ]
  },
  {
   "cell_type": "markdown",
   "metadata": {},
   "source": [
    "##### Reinforcement Data\n",
    "Next, we extract the reinforcement data for steel, which will be used for \"Concrete\" elements that include reinforcement.\n",
    "\n",
    "This searches for the entry where the material is 'steel', which is the reinforcement material we need for concrete elements."
   ]
  },
  {
   "cell_type": "code",
   "execution_count": null,
   "metadata": {},
   "outputs": [],
   "source": [
    "# Find reinforcement entry specifically\n",
    "reinforcement_data = next((entry for entry in emission_factor_data if entry['material'] == 'steel'), None)"
   ]
  },
  {
   "cell_type": "markdown",
   "metadata": {},
   "source": [
    "##### Populating the DataFrame\n",
    "Now, we will loop through the `filtered_elements`, extract relevant information, and populate our DataFrame. We’ll handle both \"Concrete\" and non-concrete materials in the same loop."
   ]
  },
  {
   "cell_type": "code",
   "execution_count": null,
   "metadata": {},
   "outputs": [],
   "source": [
    "# Loop through filtered elements to populate the DataFrame\n",
    "for grouping in filtered_elements:\n",
    "    category = grouping.name  # e.g., 'Walls', 'Floors', etc.\n",
    "    element_type = category_mapping.get(category, None)\n",
    "\n",
    "    for element in grouping.elements:\n",
    "        id = element.id\n",
    "        level = element.level.name\n",
    "        volume = element.materialQuantities[0].volume * 1e-9  # Convert mm³ to m³\n",
    "        material = element.materialQuantities[0].material.name\n",
    "\n",
    "        if \"Concrete\" in material:\n",
    "            # Main concrete entry\n",
    "            material_type = \"concrete\"\n",
    "            if isinstance(element_type, list) and 'walls' in element_type:\n",
    "                element_type = 'walls'  # Choose structural wall by default if concrete\n",
    "\n",
    "            emission_data = emission_lookup.get((element_type, material_type), None)\n",
    "            \n",
    "            if emission_data:\n",
    "                density = emission_data['density']\n",
    "                emission_factor = emission_data['ecf']\n",
    "                mass = density * volume  # Calculate mass\n",
    "                embodied_carbon = mass * emission_factor\n",
    "\n",
    "                # Append concrete data to DataFrame\n",
    "                df = pd.concat([df, pd.DataFrame([{\n",
    "                    'id': id,\n",
    "                    'category': category,\n",
    "                    'level': level,\n",
    "                    'material': material,\n",
    "                    'volume': volume,\n",
    "                    'density': density,\n",
    "                    'mass': mass,\n",
    "                    'emission_factor': emission_factor,\n",
    "                    'embodied_carbon': embodied_carbon\n",
    "                }])], ignore_index=True)\n",
    "\n",
    "                # Reinforcement entry for concrete\n",
    "                if reinforcement_data:\n",
    "                    reinforcement_rate = emission_data['reinforcementRate'] / 1000  # Convert from kg/m³ to ratio\n",
    "                    reinforcement_density = reinforcement_data['density']\n",
    "                    reinforcement_ecf = reinforcement_data['ecf']\n",
    "                    reinforcement_mass = volume * reinforcement_rate  # Mass based on reinforcement rate\n",
    "\n",
    "                    # Append reinforcement data to DataFrame\n",
    "                    df = pd.concat([df, pd.DataFrame([{\n",
    "                        'id': id,  # Same id as concrete element\n",
    "                        'category': category,\n",
    "                        'level': level,\n",
    "                        'material': \"reinforcing\",\n",
    "                        'volume': None,  # Volume is None for reinforcement\n",
    "                        'density': reinforcement_density,\n",
    "                        'mass': reinforcement_mass,\n",
    "                        'emission_factor': reinforcement_ecf,\n",
    "                        'embodied_carbon': reinforcement_mass * reinforcement_ecf\n",
    "                    }])], ignore_index=True)\n",
    "\n",
    "        else:\n",
    "            # Handle non-concrete materials as in the initial code\n",
    "            material_type = \"masonry\" if category == \"Walls\" else material.lower()\n",
    "            element_type = 'non-structural walls' if material_type == \"masonry\" else element_type\n",
    "            \n",
    "            emission_data = emission_lookup.get((element_type, material_type), None)\n",
    "            if emission_data:\n",
    "                density = emission_data['density']\n",
    "                emission_factor = emission_data['ecf']\n",
    "                mass = density * volume\n",
    "                embodied_carbon = mass * emission_factor\n",
    "\n",
    "                # Append non-concrete data to DataFrame\n",
    "                df = pd.concat([df, pd.DataFrame([{\n",
    "                    'id': id,\n",
    "                    'category': category,\n",
    "                    'level': level,\n",
    "                    'material': material,\n",
    "                    'volume': volume,\n",
    "                    'density': density,\n",
    "                    'mass': mass,\n",
    "                    'emission_factor': emission_factor,\n",
    "                    'embodied_carbon': embodied_carbon\n",
    "                }])], ignore_index=True)\n",
    "\n",
    "# Display the resulting DataFrame\n",
    "display(df)\n"
   ]
  },
  {
   "cell_type": "code",
   "execution_count": null,
   "metadata": {},
   "outputs": [],
   "source": [
    "# Calculate the total embodied carbon\n",
    "total_embodied_carbon = df['embodied_carbon'].sum()\n",
    "\n",
    "# Display the result\n",
    "print(f\"Total Embodied Carbon: {total_embodied_carbon:.2f} kg CO2\")"
   ]
  },
  {
   "cell_type": "markdown",
   "metadata": {},
   "source": [
    "#### 🤩 Step 07 - Visualize"
   ]
  },
  {
   "cell_type": "markdown",
   "metadata": {},
   "source": [
    "Imports and Setup"
   ]
  },
  {
   "cell_type": "code",
   "execution_count": null,
   "metadata": {},
   "outputs": [],
   "source": [
    "import matplotlib.pyplot as plt\n",
    "import seaborn as sns\n",
    "import plotly.express as px\n",
    "\n",
    "# Set up Seaborn and Matplotlib styles for modern, appealing visuals\n",
    "sns.set_theme(style=\"whitegrid\")\n",
    "plt.style.use(\"ggplot\")\n"
   ]
  },
  {
   "cell_type": "markdown",
   "metadata": {},
   "source": [
    "Pie Chart Embodied Carbon by Material"
   ]
  },
  {
   "cell_type": "code",
   "execution_count": null,
   "metadata": {},
   "outputs": [],
   "source": [
    "# Calculate total embodied carbon per material\n",
    "carbon_by_material = df.groupby(\"material\")[\"embodied_carbon\"].sum()\n",
    "\n",
    "# Plot pie chart\n",
    "fig = px.pie(\n",
    "    names=carbon_by_material.index,\n",
    "    values=carbon_by_material.values,\n",
    "    title=\"Embodied Carbon Distribution by Material\",\n",
    "    color_discrete_sequence=px.colors.sequential.RdBu\n",
    ")\n",
    "fig.update_traces(textinfo=\"percent+label\", pull=[0.1 if i == max(carbon_by_material.values) else 0 for i in carbon_by_material.values])\n",
    "fig.show()\n"
   ]
  },
  {
   "cell_type": "markdown",
   "metadata": {},
   "source": [
    "Pie Chart: Embodied Carbon by Level"
   ]
  },
  {
   "cell_type": "code",
   "execution_count": null,
   "metadata": {},
   "outputs": [],
   "source": [
    "# Calculate total embodied carbon per level\n",
    "carbon_by_level = df.groupby(\"level\")[\"embodied_carbon\"].sum()\n",
    "\n",
    "# Plot pie chart\n",
    "fig = px.pie(\n",
    "    names=carbon_by_level.index,\n",
    "    values=carbon_by_level.values,\n",
    "    title=\"Embodied Carbon Distribution by Level\",\n",
    "    color_discrete_sequence=px.colors.sequential.Teal\n",
    ")\n",
    "fig.update_traces(textinfo=\"percent+label\", pull=[0.1 if i == max(carbon_by_level.values) else 0 for i in carbon_by_level.values])\n",
    "fig.show()"
   ]
  },
  {
   "cell_type": "markdown",
   "metadata": {},
   "source": [
    "Bar Chart: Embodied Carbon by Category"
   ]
  },
  {
   "cell_type": "code",
   "execution_count": null,
   "metadata": {},
   "outputs": [],
   "source": [
    "# Calculate total embodied carbon per category\n",
    "carbon_by_category = df.groupby(\"category\")[\"embodied_carbon\"].sum().sort_values()\n",
    "\n",
    "# Plot bar chart with updated 'hue' handling and font fixes\n",
    "plt.figure(figsize=(10, 6))\n",
    "sns.barplot(x=carbon_by_category, y=carbon_by_category.index, hue=carbon_by_category.index, palette=\"viridis\")\n",
    "plt.title(\"Embodied Carbon by Category\")\n",
    "plt.xlabel(\"Total Embodied Carbon (kg CO₂e)\")\n",
    "plt.ylabel(\"Category\")\n",
    "\n",
    "# Fix missing glyph warning by changing font to one that supports subscript characters\n",
    "plt.rcParams[\"font.family\"] = \"DejaVu Sans\"  # A font that supports subscript/superscript\n",
    "\n",
    "plt.show()"
   ]
  },
  {
   "cell_type": "markdown",
   "metadata": {},
   "source": [
    "Stacked Bar Chart: Embodied Carbon per Material for Each Level"
   ]
  },
  {
   "cell_type": "code",
   "execution_count": null,
   "metadata": {},
   "outputs": [],
   "source": [
    "# Calculate total embodied carbon per material per level\n",
    "carbon_material_level = df.groupby([\"level\", \"material\"])[\"embodied_carbon\"].sum().unstack()\n",
    "\n",
    "# Plot stacked bar chart\n",
    "carbon_material_level.plot(kind=\"bar\", stacked=True, colormap=\"coolwarm\", figsize=(10, 6))\n",
    "plt.title(\"Embodied Carbon per Material Across Levels\")\n",
    "plt.xlabel(\"Level\")\n",
    "plt.ylabel(\"Embodied Carbon (kg CO₂e)\")\n",
    "plt.legend(title=\"Material\", bbox_to_anchor=(1.05, 1), loc=\"upper left\")\n",
    "plt.show()\n"
   ]
  }
 ],
 "metadata": {
  "kernelspec": {
   "display_name": "Python 3",
   "language": "python",
   "name": "python3"
  },
  "language_info": {
   "codemirror_mode": {
    "name": "ipython",
    "version": 3
   },
   "file_extension": ".py",
   "mimetype": "text/x-python",
   "name": "python",
   "nbconvert_exporter": "python",
   "pygments_lexer": "ipython3",
   "version": "3.12.4"
  }
 },
 "nbformat": 4,
 "nbformat_minor": 2
}
