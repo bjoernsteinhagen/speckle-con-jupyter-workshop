{
 "cells": [
  {
   "cell_type": "markdown",
   "metadata": {},
   "source": [
    "## 🍃 Carbon Calculation Chaos\n",
    "The basic formula for calculating embodied carbon is:\n",
    "\n",
    "$$\n",
    "\\text{Embodied Carbon} = \\sum \\left(\\text{Material Quantity} \\times \\text{Emission Factor}\\right)\n",
    "$$\n",
    "\n",
    "Where:\n",
    "- **Material Quantity** is the amount of each construction material.\n",
    "- **Emission Factor** is the carbon intensity of each material (e.g., kgCO₂e per unit of material).\n",
    "\n",
    "For the **Aquatics Centre** project, we are tasked at providing a high-level computation of the embodied carbon based on the above formula.\n",
    "\n",
    "Equation variables:\n",
    "- **Material Quantity** is obtained from the geometric Revit model. Volume (m³)(from Revit) multiplied by the density (kg/m³)(known) returns mass (kg).\n",
    "- **Emission Factor** is provided in tabular form (from Excel) in kgCO₂e/kg."
   ]
  },
  {
   "cell_type": "markdown",
   "metadata": {},
   "source": [
    "#### 🏃 Step 01 - Receiving commit in a condensed fashion"
   ]
  },
  {
   "cell_type": "code",
   "execution_count": null,
   "metadata": {},
   "outputs": [],
   "source": [
    "# Import required libraries\n",
    "from specklepy.api.client import SpeckleClient\n",
    "from specklepy.core.api import operations\n",
    "from specklepy.transports.server import ServerTransport\n",
    "\n",
    "# Define global variables \n",
    "HOST = \"https://app.speckle.systems/\"\n",
    "AUTHENTICATION_TOKEN = \"\"\n",
    "STREAM_ID = \"\"\n",
    "BRANCH_NAME = \"\"\n",
    "\n",
    "# Setting up SpeckleClient and authenticating\n",
    "client = SpeckleClient(host=HOST)\n",
    "client.authenticate_with_token(token=AUTHENTICATION_TOKEN)\n",
    "\n",
    "# Receving commit\n",
    "transport = ServerTransport(STREAM_ID, client)\n",
    "branch = client.branch.get(stream_id=STREAM_ID, name=BRANCH_NAME)\n",
    "model_data = operations.receive(branch.commits.items[0].referencedObject, transport)"
   ]
  },
  {
   "cell_type": "markdown",
   "metadata": {},
   "source": [
    "#### 🔍 Step 02 - Where To Start?\n",
    "Maybe the question is, where on earth do I even start??\n",
    "* `model_data` is at the root of our commit, below visualized as the `structural` object\n",
    "* `elements` represents the Revit objects grouped by their types (Walls, Columns etc.)\n",
    "* We want to build a dataframe of all object types relevant for our basic calculation\n",
    "* A safe function to retrieve the attribute is Python's `gettattr()` function, which allows us to do some sort of \"error-handling\" "
   ]
  },
  {
   "cell_type": "markdown",
   "metadata": {},
   "source": [
    "![alt text](<Screenshot 2024-11-14 093304.png>)"
   ]
  },
  {
   "cell_type": "code",
   "execution_count": 18,
   "metadata": {},
   "outputs": [
    {
     "name": "stdout",
     "output_type": "stream",
     "text": [
      "Success! We have elements, now we can proceed with filtering.\n"
     ]
    }
   ],
   "source": [
    "# Using the above explanation, we can very easily obtain our model objects\n",
    "elements = getattr(model_data, \"elements\", None)\n",
    "\n",
    "if elements:\n",
    "    print(\"Success! We have elements, now we can proceed with filtering.\")\n",
    "    assert len(elements) == 10 # The size of the array (from the screenshot) indicates, that their should be 10 different groups. NOTE: It is usually not a good idea to hard-code these numbers as we have variability from version to version "
   ]
  },
  {
   "cell_type": "markdown",
   "metadata": {},
   "source": [
    "####  ⏳ Step 03 - Filter our RVT data\n",
    "So, we have an array of **ALL** objects. But, we want to just have the elements relevant to our calculation. How do we go about this?\n",
    "* Each `element` within `elements` has a `name` property.\n",
    "* What names (i.e. categories) do we have?"
   ]
  },
  {
   "cell_type": "code",
   "execution_count": 19,
   "metadata": {},
   "outputs": [
    {
     "name": "stdout",
     "output_type": "stream",
     "text": [
      "['Load Cases', 'HVAC Load Building Types', 'HVAC Load Space Types', 'Pipe Segments', 'Rvt Links', 'Structural Foundation', 'Walls', 'Grids', 'Structural Columns', 'Floors']\n"
     ]
    }
   ],
   "source": [
    "print([element.name for element in elements])"
   ]
  },
  {
   "cell_type": "markdown",
   "metadata": {},
   "source": [
    "For our calculation, we are just looking at the basic structural objects. Using some basic list comprehension, we can filter our `elements` list for just the information of interest to us."
   ]
  },
  {
   "cell_type": "code",
   "execution_count": 20,
   "metadata": {},
   "outputs": [],
   "source": [
    "# Some basic filtering\n",
    "wanted_elements = [\"Structural Foundation\", \"Walls\", \"Structural Columns\", \"Floors\"]\n",
    "filtered_elements = [element for element in elements if element.name in wanted_elements]"
   ]
  },
  {
   "cell_type": "markdown",
   "metadata": {},
   "source": [
    "####  🐼 Step 04 - Thinking about our Pandas Dataframe / Data Structure\n",
    "- A well-organised dataframe makes post-processing, computations, groupings and other insights easy to obtain.\n",
    "- The information may be structured as follows:"
   ]
  },
  {
   "cell_type": "code",
   "execution_count": 21,
   "metadata": {},
   "outputs": [
    {
     "data": {
      "text/html": [
       "<div>\n",
       "<style scoped>\n",
       "    .dataframe tbody tr th:only-of-type {\n",
       "        vertical-align: middle;\n",
       "    }\n",
       "\n",
       "    .dataframe tbody tr th {\n",
       "        vertical-align: top;\n",
       "    }\n",
       "\n",
       "    .dataframe thead th {\n",
       "        text-align: right;\n",
       "    }\n",
       "</style>\n",
       "<table border=\"1\" class=\"dataframe\">\n",
       "  <thead>\n",
       "    <tr style=\"text-align: right;\">\n",
       "      <th></th>\n",
       "      <th>id</th>\n",
       "      <th>category</th>\n",
       "      <th>level</th>\n",
       "      <th>material</th>\n",
       "      <th>volume</th>\n",
       "      <th>density</th>\n",
       "      <th>mass</th>\n",
       "      <th>emission_factor</th>\n",
       "      <th>embodied_carbon</th>\n",
       "    </tr>\n",
       "  </thead>\n",
       "  <tbody>\n",
       "  </tbody>\n",
       "</table>\n",
       "</div>"
      ],
      "text/plain": [
       "Empty DataFrame\n",
       "Columns: [id, category, level, material, volume, density, mass, emission_factor, embodied_carbon]\n",
       "Index: []"
      ]
     },
     "metadata": {},
     "output_type": "display_data"
    }
   ],
   "source": [
    "import pandas as pd\n",
    "from IPython.display import display\n",
    "\n",
    "# List of headers\n",
    "headers = [\"id\", \"category\", \"level\", \"material\", \"volume\", \"density\", \"mass\", \"emission_factor\", \"embodied_carbon\"]\n",
    "\n",
    "# Create an empty DataFrame with the specified headers\n",
    "df = pd.DataFrame(columns=headers)\n",
    "display(df)"
   ]
  },
  {
   "cell_type": "markdown",
   "metadata": {},
   "source": [
    "#### 🔩 Step 05 - Reinforcing some Structural Concepts\n",
    "- Reinforced concrete elements are comprised of two materials: concrete and steel\n",
    "- Both materials have separate emission factors and thus need to be separated for our computations\n",
    "- Thankfully, the Excel \"model\" provides us with reinforcment rates as a way to estimate the quantity of reinforcing steel in a concrete element\n",
    "- Concrete volume (m³) x Reinforcement rate (kg/m³) = Steel mass (kg)"
   ]
  },
  {
   "cell_type": "code",
   "execution_count": 22,
   "metadata": {},
   "outputs": [
    {
     "data": {
      "text/plain": [
       "[{'id': '0d9ecb465d797fd8e3c1135892649ae8',\n",
       "  'ecf': 0.1,\n",
       "  'density': 2400,\n",
       "  'element': 'slabs',\n",
       "  'material': 'concrete',\n",
       "  'reinforcementRate': 95},\n",
       " {'id': 'a9adeee19f2a5c00b681f8996c30b66f',\n",
       "  'ecf': 0.093,\n",
       "  'density': 2400,\n",
       "  'element': 'rafts',\n",
       "  'material': 'concrete',\n",
       "  'reinforcementRate': 115},\n",
       " {'id': '6494d58e451852dd0aec2c19eca8b3d9',\n",
       "  'ecf': 0.138,\n",
       "  'density': 2400,\n",
       "  'element': 'columns',\n",
       "  'material': 'concrete',\n",
       "  'reinforcementRate': 300},\n",
       " {'id': '3124e62cba8565d92e574ac11f7796aa',\n",
       "  'ecf': 0.1,\n",
       "  'density': 2400,\n",
       "  'element': 'walls',\n",
       "  'material': 'concrete',\n",
       "  'reinforcementRate': 65},\n",
       " {'id': '5d086dca08981952f93224a62b3fe3a7',\n",
       "  'ecf': 0.1,\n",
       "  'density': 2400,\n",
       "  'element': 'retaining walls',\n",
       "  'material': 'concrete',\n",
       "  'reinforcementRate': 110},\n",
       " {'id': '695b5653d05ed48d3ead669510c98904',\n",
       "  'ecf': 0.213,\n",
       "  'density': 2000,\n",
       "  'element': 'non-structural walls',\n",
       "  'material': 'masonry',\n",
       "  'reinforcementRate': ''},\n",
       " {'id': '6200c5d6b0756e3a1369e873c0af93e8',\n",
       "  'ecf': 1.96,\n",
       "  'density': 7850,\n",
       "  'element': 'reinforcement',\n",
       "  'material': 'steel',\n",
       "  'reinforcementRate': ''}]"
      ]
     },
     "execution_count": 22,
     "metadata": {},
     "output_type": "execute_result"
    }
   ],
   "source": [
    "# Receiving the Excel data\n",
    "branch = client.branch.get(stream_id=STREAM_ID, name=\"database\")\n",
    "model_data = operations.receive(branch.commits.items[0].referencedObject, transport)\n",
    "emission_factor_data = model_data.data\n",
    "emission_factor_data"
   ]
  },
  {
   "cell_type": "markdown",
   "metadata": {},
   "source": [
    "#### 🔨 Step 06 - Building our Pandas Dataframe\n",
    "Looping through (primitive, I know) the elements and poppulating the dataframe accordingly. Thankfully, our range of materials is limited making conditional statements simple. For concrete elements, we need an extra step to split between concrete and steel.\n",
    "\n",
    "The \"loop logic\" looks as follows:\n",
    "- Determine material type\n",
    "- Using the material and object type (or group), supplement information with the density and emission factor from the Excel data\n",
    "- If concrete, compute mass of steel add row data for both materials."
   ]
  },
  {
   "cell_type": "markdown",
   "metadata": {},
   "source": [
    "##### Category Mapping\n",
    "First, let's define a dictionary that helps map categories like 'Walls', 'Floors', etc., to specific elements in the emission factor data.\n",
    "\n",
    "This mapping will allow us to link the categories from the `filtered_elements` with the corresponding element types in the emission factor data. For example, 'Walls' could be mapped to both 'walls' and 'non-structural walls'."
   ]
  },
  {
   "cell_type": "code",
   "execution_count": 23,
   "metadata": {},
   "outputs": [],
   "source": [
    "# Category mapping dictionary\n",
    "category_mapping = {\n",
    "    'Structural Foundation': 'rafts',\n",
    "    'Walls': ['walls', 'non-structural walls'],\n",
    "    'Structural Columns': 'columns',\n",
    "    'Floors': 'slabs'\n",
    "}"
   ]
  },
  {
   "cell_type": "markdown",
   "metadata": {},
   "source": [
    "##### Emission Factor Data Lookup\n",
    "We will convert the `emission_factor_data` into a dictionary for quick lookups. This allows us to retrieve emission factor data based on the combination of the element type and material.\n",
    "\n",
    "The key of this dictionary is a tuple `(element_type, material)`, and the value is the emission factor data for that combination."
   ]
  },
  {
   "cell_type": "code",
   "execution_count": 24,
   "metadata": {},
   "outputs": [],
   "source": [
    "# Convert emission factor data into a dictionary for quick lookup\n",
    "emission_lookup = {\n",
    "    (entry['element'], entry['material']): entry for entry in emission_factor_data\n",
    "}"
   ]
  },
  {
   "cell_type": "markdown",
   "metadata": {},
   "source": [
    "##### Reinforcement Data\n",
    "Next, we extract the reinforcement data for steel, which will be used for \"Concrete\" elements that include reinforcement.\n",
    "\n",
    "This searches for the entry where the material is 'steel', which is the reinforcement material we need for concrete elements."
   ]
  },
  {
   "cell_type": "code",
   "execution_count": 25,
   "metadata": {},
   "outputs": [],
   "source": [
    "# Find reinforcement entry specifically\n",
    "reinforcement_data = next((entry for entry in emission_factor_data if entry['material'] == 'steel'), None)"
   ]
  },
  {
   "cell_type": "markdown",
   "metadata": {},
   "source": [
    "##### Populating the DataFrame\n",
    "Now, we will loop through the `filtered_elements`, extract relevant information, and populate our DataFrame. We’ll handle both \"Concrete\" and non-concrete materials in the same loop."
   ]
  },
  {
   "cell_type": "code",
   "execution_count": 26,
   "metadata": {},
   "outputs": [
    {
     "name": "stderr",
     "output_type": "stream",
     "text": [
      "C:\\Users\\stein\\AppData\\Local\\Temp\\ipykernel_10428\\3381144798.py:27: FutureWarning:\n",
      "\n",
      "The behavior of DataFrame concatenation with empty or all-NA entries is deprecated. In a future version, this will no longer exclude empty or all-NA columns when determining the result dtypes. To retain the old behavior, exclude the relevant entries before the concat operation.\n",
      "\n",
      "C:\\Users\\stein\\AppData\\Local\\Temp\\ipykernel_10428\\3381144798.py:47: FutureWarning:\n",
      "\n",
      "The behavior of DataFrame concatenation with empty or all-NA entries is deprecated. In a future version, this will no longer exclude empty or all-NA columns when determining the result dtypes. To retain the old behavior, exclude the relevant entries before the concat operation.\n",
      "\n"
     ]
    },
    {
     "data": {
      "text/html": [
       "<div>\n",
       "<style scoped>\n",
       "    .dataframe tbody tr th:only-of-type {\n",
       "        vertical-align: middle;\n",
       "    }\n",
       "\n",
       "    .dataframe tbody tr th {\n",
       "        vertical-align: top;\n",
       "    }\n",
       "\n",
       "    .dataframe thead th {\n",
       "        text-align: right;\n",
       "    }\n",
       "</style>\n",
       "<table border=\"1\" class=\"dataframe\">\n",
       "  <thead>\n",
       "    <tr style=\"text-align: right;\">\n",
       "      <th></th>\n",
       "      <th>id</th>\n",
       "      <th>category</th>\n",
       "      <th>level</th>\n",
       "      <th>material</th>\n",
       "      <th>volume</th>\n",
       "      <th>density</th>\n",
       "      <th>mass</th>\n",
       "      <th>emission_factor</th>\n",
       "      <th>embodied_carbon</th>\n",
       "    </tr>\n",
       "  </thead>\n",
       "  <tbody>\n",
       "    <tr>\n",
       "      <th>0</th>\n",
       "      <td>8ec524a1a169fc7576ddd401a205b309</td>\n",
       "      <td>Structural Foundation</td>\n",
       "      <td>Basement</td>\n",
       "      <td>Concrete, Cast-in-Place - C25</td>\n",
       "      <td>456.808895</td>\n",
       "      <td>2400</td>\n",
       "      <td>1.096341e+06</td>\n",
       "      <td>0.093</td>\n",
       "      <td>101959.745370</td>\n",
       "    </tr>\n",
       "    <tr>\n",
       "      <th>1</th>\n",
       "      <td>8ec524a1a169fc7576ddd401a205b309</td>\n",
       "      <td>Structural Foundation</td>\n",
       "      <td>Basement</td>\n",
       "      <td>reinforcing</td>\n",
       "      <td>NaN</td>\n",
       "      <td>7850</td>\n",
       "      <td>5.253302e+01</td>\n",
       "      <td>1.960</td>\n",
       "      <td>102.964725</td>\n",
       "    </tr>\n",
       "    <tr>\n",
       "      <th>2</th>\n",
       "      <td>73f1926cdbddb988a44f0eebc6c176f8</td>\n",
       "      <td>Structural Foundation</td>\n",
       "      <td>Ground Floor</td>\n",
       "      <td>Concrete, Cast-in-Place - C25</td>\n",
       "      <td>52.050822</td>\n",
       "      <td>2400</td>\n",
       "      <td>1.249220e+05</td>\n",
       "      <td>0.093</td>\n",
       "      <td>11617.743435</td>\n",
       "    </tr>\n",
       "    <tr>\n",
       "      <th>3</th>\n",
       "      <td>73f1926cdbddb988a44f0eebc6c176f8</td>\n",
       "      <td>Structural Foundation</td>\n",
       "      <td>Ground Floor</td>\n",
       "      <td>reinforcing</td>\n",
       "      <td>NaN</td>\n",
       "      <td>7850</td>\n",
       "      <td>5.985845e+00</td>\n",
       "      <td>1.960</td>\n",
       "      <td>11.732255</td>\n",
       "    </tr>\n",
       "    <tr>\n",
       "      <th>4</th>\n",
       "      <td>78bad23dd087345efe6115eb0c3a2496</td>\n",
       "      <td>Walls</td>\n",
       "      <td>Basement</td>\n",
       "      <td>Concrete, Cast-in-Place - C25</td>\n",
       "      <td>23.695604</td>\n",
       "      <td>2400</td>\n",
       "      <td>5.686945e+04</td>\n",
       "      <td>0.100</td>\n",
       "      <td>5686.944932</td>\n",
       "    </tr>\n",
       "    <tr>\n",
       "      <th>...</th>\n",
       "      <td>...</td>\n",
       "      <td>...</td>\n",
       "      <td>...</td>\n",
       "      <td>...</td>\n",
       "      <td>...</td>\n",
       "      <td>...</td>\n",
       "      <td>...</td>\n",
       "      <td>...</td>\n",
       "      <td>...</td>\n",
       "    </tr>\n",
       "    <tr>\n",
       "      <th>159</th>\n",
       "      <td>ecd6ca304f7f8a7b37822a5efbb53679</td>\n",
       "      <td>Floors</td>\n",
       "      <td>Roof</td>\n",
       "      <td>reinforcing</td>\n",
       "      <td>NaN</td>\n",
       "      <td>7850</td>\n",
       "      <td>5.589360e-01</td>\n",
       "      <td>1.960</td>\n",
       "      <td>1.095514</td>\n",
       "    </tr>\n",
       "    <tr>\n",
       "      <th>160</th>\n",
       "      <td>1750f74db646a4399b3e4ca13e7ed6a0</td>\n",
       "      <td>Floors</td>\n",
       "      <td>Roof</td>\n",
       "      <td>Concrete, Cast-in-Place - C30</td>\n",
       "      <td>4.498058</td>\n",
       "      <td>2400</td>\n",
       "      <td>1.079534e+04</td>\n",
       "      <td>0.100</td>\n",
       "      <td>1079.533918</td>\n",
       "    </tr>\n",
       "    <tr>\n",
       "      <th>161</th>\n",
       "      <td>1750f74db646a4399b3e4ca13e7ed6a0</td>\n",
       "      <td>Floors</td>\n",
       "      <td>Roof</td>\n",
       "      <td>reinforcing</td>\n",
       "      <td>NaN</td>\n",
       "      <td>7850</td>\n",
       "      <td>4.273155e-01</td>\n",
       "      <td>1.960</td>\n",
       "      <td>0.837538</td>\n",
       "    </tr>\n",
       "    <tr>\n",
       "      <th>162</th>\n",
       "      <td>c2431f36c80d361c11f0f5ff23253a67</td>\n",
       "      <td>Floors</td>\n",
       "      <td>Roof</td>\n",
       "      <td>Concrete, Cast-in-Place - C30</td>\n",
       "      <td>54.051136</td>\n",
       "      <td>2400</td>\n",
       "      <td>1.297227e+05</td>\n",
       "      <td>0.100</td>\n",
       "      <td>12972.272606</td>\n",
       "    </tr>\n",
       "    <tr>\n",
       "      <th>163</th>\n",
       "      <td>c2431f36c80d361c11f0f5ff23253a67</td>\n",
       "      <td>Floors</td>\n",
       "      <td>Roof</td>\n",
       "      <td>reinforcing</td>\n",
       "      <td>NaN</td>\n",
       "      <td>7850</td>\n",
       "      <td>5.134858e+00</td>\n",
       "      <td>1.960</td>\n",
       "      <td>10.064321</td>\n",
       "    </tr>\n",
       "  </tbody>\n",
       "</table>\n",
       "<p>164 rows × 9 columns</p>\n",
       "</div>"
      ],
      "text/plain": [
       "                                   id               category         level  \\\n",
       "0    8ec524a1a169fc7576ddd401a205b309  Structural Foundation      Basement   \n",
       "1    8ec524a1a169fc7576ddd401a205b309  Structural Foundation      Basement   \n",
       "2    73f1926cdbddb988a44f0eebc6c176f8  Structural Foundation  Ground Floor   \n",
       "3    73f1926cdbddb988a44f0eebc6c176f8  Structural Foundation  Ground Floor   \n",
       "4    78bad23dd087345efe6115eb0c3a2496                  Walls      Basement   \n",
       "..                                ...                    ...           ...   \n",
       "159  ecd6ca304f7f8a7b37822a5efbb53679                 Floors          Roof   \n",
       "160  1750f74db646a4399b3e4ca13e7ed6a0                 Floors          Roof   \n",
       "161  1750f74db646a4399b3e4ca13e7ed6a0                 Floors          Roof   \n",
       "162  c2431f36c80d361c11f0f5ff23253a67                 Floors          Roof   \n",
       "163  c2431f36c80d361c11f0f5ff23253a67                 Floors          Roof   \n",
       "\n",
       "                          material      volume density          mass  \\\n",
       "0    Concrete, Cast-in-Place - C25  456.808895    2400  1.096341e+06   \n",
       "1                      reinforcing         NaN    7850  5.253302e+01   \n",
       "2    Concrete, Cast-in-Place - C25   52.050822    2400  1.249220e+05   \n",
       "3                      reinforcing         NaN    7850  5.985845e+00   \n",
       "4    Concrete, Cast-in-Place - C25   23.695604    2400  5.686945e+04   \n",
       "..                             ...         ...     ...           ...   \n",
       "159                    reinforcing         NaN    7850  5.589360e-01   \n",
       "160  Concrete, Cast-in-Place - C30    4.498058    2400  1.079534e+04   \n",
       "161                    reinforcing         NaN    7850  4.273155e-01   \n",
       "162  Concrete, Cast-in-Place - C30   54.051136    2400  1.297227e+05   \n",
       "163                    reinforcing         NaN    7850  5.134858e+00   \n",
       "\n",
       "     emission_factor  embodied_carbon  \n",
       "0              0.093    101959.745370  \n",
       "1              1.960       102.964725  \n",
       "2              0.093     11617.743435  \n",
       "3              1.960        11.732255  \n",
       "4              0.100      5686.944932  \n",
       "..               ...              ...  \n",
       "159            1.960         1.095514  \n",
       "160            0.100      1079.533918  \n",
       "161            1.960         0.837538  \n",
       "162            0.100     12972.272606  \n",
       "163            1.960        10.064321  \n",
       "\n",
       "[164 rows x 9 columns]"
      ]
     },
     "metadata": {},
     "output_type": "display_data"
    }
   ],
   "source": [
    "# Loop through filtered elements to populate the DataFrame\n",
    "for grouping in filtered_elements:\n",
    "    category = grouping.name  # e.g., 'Walls', 'Floors', etc.\n",
    "    element_type = category_mapping.get(category, None)\n",
    "\n",
    "    for element in grouping.elements:\n",
    "        id = element.id\n",
    "        level = element.level.name\n",
    "        volume = element.materialQuantities[0].volume * 1e-9  # Convert mm³ to m³\n",
    "        material = element.materialQuantities[0].material.name\n",
    "\n",
    "        if \"Concrete\" in material:\n",
    "            # Main concrete entry\n",
    "            material_type = \"concrete\"\n",
    "            if isinstance(element_type, list) and 'walls' in element_type:\n",
    "                element_type = 'walls'  # Choose structural wall by default if concrete\n",
    "\n",
    "            emission_data = emission_lookup.get((element_type, material_type), None)\n",
    "            \n",
    "            if emission_data:\n",
    "                density = emission_data['density']\n",
    "                emission_factor = emission_data['ecf']\n",
    "                mass = density * volume  # Calculate mass\n",
    "                embodied_carbon = mass * emission_factor\n",
    "\n",
    "                # Append concrete data to DataFrame\n",
    "                df = pd.concat([df, pd.DataFrame([{\n",
    "                    'id': id,\n",
    "                    'category': category,\n",
    "                    'level': level,\n",
    "                    'material': material,\n",
    "                    'volume': volume,\n",
    "                    'density': density,\n",
    "                    'mass': mass,\n",
    "                    'emission_factor': emission_factor,\n",
    "                    'embodied_carbon': embodied_carbon\n",
    "                }])], ignore_index=True)\n",
    "\n",
    "                # Reinforcement entry for concrete\n",
    "                if reinforcement_data:\n",
    "                    reinforcement_rate = emission_data['reinforcementRate'] / 1000  # Convert from kg/m³ to ratio\n",
    "                    reinforcement_density = reinforcement_data['density']\n",
    "                    reinforcement_ecf = reinforcement_data['ecf']\n",
    "                    reinforcement_mass = volume * reinforcement_rate  # Mass based on reinforcement rate\n",
    "\n",
    "                    # Append reinforcement data to DataFrame\n",
    "                    df = pd.concat([df, pd.DataFrame([{\n",
    "                        'id': id,  # Same id as concrete element\n",
    "                        'category': category,\n",
    "                        'level': level,\n",
    "                        'material': \"reinforcing\",\n",
    "                        'volume': None,  # Volume is None for reinforcement\n",
    "                        'density': reinforcement_density,\n",
    "                        'mass': reinforcement_mass,\n",
    "                        'emission_factor': reinforcement_ecf,\n",
    "                        'embodied_carbon': reinforcement_mass * reinforcement_ecf\n",
    "                    }])], ignore_index=True)\n",
    "\n",
    "        else:\n",
    "            # Handle non-concrete materials as in the initial code\n",
    "            material_type = \"masonry\" if category == \"Walls\" else material.lower()\n",
    "            element_type = 'non-structural walls' if material_type == \"masonry\" else element_type\n",
    "            \n",
    "            emission_data = emission_lookup.get((element_type, material_type), None)\n",
    "            if emission_data:\n",
    "                density = emission_data['density']\n",
    "                emission_factor = emission_data['ecf']\n",
    "                mass = density * volume\n",
    "                embodied_carbon = mass * emission_factor\n",
    "\n",
    "                # Append non-concrete data to DataFrame\n",
    "                df = pd.concat([df, pd.DataFrame([{\n",
    "                    'id': id,\n",
    "                    'category': category,\n",
    "                    'level': level,\n",
    "                    'material': material,\n",
    "                    'volume': volume,\n",
    "                    'density': density,\n",
    "                    'mass': mass,\n",
    "                    'emission_factor': emission_factor,\n",
    "                    'embodied_carbon': embodied_carbon\n",
    "                }])], ignore_index=True)\n",
    "\n",
    "# Display the resulting DataFrame\n",
    "display(df)\n"
   ]
  },
  {
   "cell_type": "code",
   "execution_count": 27,
   "metadata": {},
   "outputs": [
    {
     "name": "stdout",
     "output_type": "stream",
     "text": [
      "Total Embodied Carbon: 268290.84 kg CO2\n"
     ]
    }
   ],
   "source": [
    "# Calculate the total embodied carbon\n",
    "total_embodied_carbon = df['embodied_carbon'].sum()\n",
    "\n",
    "# Display the result\n",
    "print(f\"Total Embodied Carbon: {total_embodied_carbon:.2f} kg CO2\")"
   ]
  },
  {
   "cell_type": "markdown",
   "metadata": {},
   "source": [
    "#### 🤩 Step 07 - Visualize"
   ]
  },
  {
   "cell_type": "markdown",
   "metadata": {},
   "source": [
    "Imports and Setup"
   ]
  },
  {
   "cell_type": "code",
   "execution_count": 28,
   "metadata": {},
   "outputs": [],
   "source": [
    "import matplotlib.pyplot as plt\n",
    "import seaborn as sns\n",
    "import plotly.express as px\n",
    "\n",
    "# Set up Seaborn and Matplotlib styles for modern, appealing visuals\n",
    "sns.set_theme(style=\"whitegrid\")\n",
    "plt.style.use(\"ggplot\")\n"
   ]
  },
  {
   "cell_type": "markdown",
   "metadata": {},
   "source": [
    "Pie Chart Embodied Carbon by Material"
   ]
  },
  {
   "cell_type": "code",
   "execution_count": 29,
   "metadata": {},
   "outputs": [
    {
     "data": {
      "application/vnd.plotly.v1+json": {
       "config": {
        "plotlyServerURL": "https://plot.ly"
       },
       "data": [
        {
         "domain": {
          "x": [
           0,
           1
          ],
          "y": [
           0,
           1
          ]
         },
         "hovertemplate": "label=%{label}<br>value=%{value}<extra></extra>",
         "labels": [
          "Brick, Common",
          "Concrete, Cast-in-Place - C25",
          "Concrete, Cast-in-Place - C30",
          "Concrete, Cast-in-Place - C45",
          "Concrete, Lightweight - 40",
          "reinforcing"
         ],
         "legendgroup": "",
         "name": "",
         "pull": [
          0,
          0.1,
          0,
          0,
          0,
          0
         ],
         "showlegend": true,
         "textinfo": "percent+label",
         "type": "pie",
         "values": [
          17940.926728118284,
          132405.99631865285,
          116574.19080615349,
          934.1107366072994,
          218.43302399996912,
          217.18010538453228
         ]
        }
       ],
       "layout": {
        "legend": {
         "tracegroupgap": 0
        },
        "piecolorway": [
         "rgb(103,0,31)",
         "rgb(178,24,43)",
         "rgb(214,96,77)",
         "rgb(244,165,130)",
         "rgb(253,219,199)",
         "rgb(247,247,247)",
         "rgb(209,229,240)",
         "rgb(146,197,222)",
         "rgb(67,147,195)",
         "rgb(33,102,172)",
         "rgb(5,48,97)"
        ],
        "template": {
         "data": {
          "bar": [
           {
            "error_x": {
             "color": "#2a3f5f"
            },
            "error_y": {
             "color": "#2a3f5f"
            },
            "marker": {
             "line": {
              "color": "#E5ECF6",
              "width": 0.5
             },
             "pattern": {
              "fillmode": "overlay",
              "size": 10,
              "solidity": 0.2
             }
            },
            "type": "bar"
           }
          ],
          "barpolar": [
           {
            "marker": {
             "line": {
              "color": "#E5ECF6",
              "width": 0.5
             },
             "pattern": {
              "fillmode": "overlay",
              "size": 10,
              "solidity": 0.2
             }
            },
            "type": "barpolar"
           }
          ],
          "carpet": [
           {
            "aaxis": {
             "endlinecolor": "#2a3f5f",
             "gridcolor": "white",
             "linecolor": "white",
             "minorgridcolor": "white",
             "startlinecolor": "#2a3f5f"
            },
            "baxis": {
             "endlinecolor": "#2a3f5f",
             "gridcolor": "white",
             "linecolor": "white",
             "minorgridcolor": "white",
             "startlinecolor": "#2a3f5f"
            },
            "type": "carpet"
           }
          ],
          "choropleth": [
           {
            "colorbar": {
             "outlinewidth": 0,
             "ticks": ""
            },
            "type": "choropleth"
           }
          ],
          "contour": [
           {
            "colorbar": {
             "outlinewidth": 0,
             "ticks": ""
            },
            "colorscale": [
             [
              0,
              "#0d0887"
             ],
             [
              0.1111111111111111,
              "#46039f"
             ],
             [
              0.2222222222222222,
              "#7201a8"
             ],
             [
              0.3333333333333333,
              "#9c179e"
             ],
             [
              0.4444444444444444,
              "#bd3786"
             ],
             [
              0.5555555555555556,
              "#d8576b"
             ],
             [
              0.6666666666666666,
              "#ed7953"
             ],
             [
              0.7777777777777778,
              "#fb9f3a"
             ],
             [
              0.8888888888888888,
              "#fdca26"
             ],
             [
              1,
              "#f0f921"
             ]
            ],
            "type": "contour"
           }
          ],
          "contourcarpet": [
           {
            "colorbar": {
             "outlinewidth": 0,
             "ticks": ""
            },
            "type": "contourcarpet"
           }
          ],
          "heatmap": [
           {
            "colorbar": {
             "outlinewidth": 0,
             "ticks": ""
            },
            "colorscale": [
             [
              0,
              "#0d0887"
             ],
             [
              0.1111111111111111,
              "#46039f"
             ],
             [
              0.2222222222222222,
              "#7201a8"
             ],
             [
              0.3333333333333333,
              "#9c179e"
             ],
             [
              0.4444444444444444,
              "#bd3786"
             ],
             [
              0.5555555555555556,
              "#d8576b"
             ],
             [
              0.6666666666666666,
              "#ed7953"
             ],
             [
              0.7777777777777778,
              "#fb9f3a"
             ],
             [
              0.8888888888888888,
              "#fdca26"
             ],
             [
              1,
              "#f0f921"
             ]
            ],
            "type": "heatmap"
           }
          ],
          "heatmapgl": [
           {
            "colorbar": {
             "outlinewidth": 0,
             "ticks": ""
            },
            "colorscale": [
             [
              0,
              "#0d0887"
             ],
             [
              0.1111111111111111,
              "#46039f"
             ],
             [
              0.2222222222222222,
              "#7201a8"
             ],
             [
              0.3333333333333333,
              "#9c179e"
             ],
             [
              0.4444444444444444,
              "#bd3786"
             ],
             [
              0.5555555555555556,
              "#d8576b"
             ],
             [
              0.6666666666666666,
              "#ed7953"
             ],
             [
              0.7777777777777778,
              "#fb9f3a"
             ],
             [
              0.8888888888888888,
              "#fdca26"
             ],
             [
              1,
              "#f0f921"
             ]
            ],
            "type": "heatmapgl"
           }
          ],
          "histogram": [
           {
            "marker": {
             "pattern": {
              "fillmode": "overlay",
              "size": 10,
              "solidity": 0.2
             }
            },
            "type": "histogram"
           }
          ],
          "histogram2d": [
           {
            "colorbar": {
             "outlinewidth": 0,
             "ticks": ""
            },
            "colorscale": [
             [
              0,
              "#0d0887"
             ],
             [
              0.1111111111111111,
              "#46039f"
             ],
             [
              0.2222222222222222,
              "#7201a8"
             ],
             [
              0.3333333333333333,
              "#9c179e"
             ],
             [
              0.4444444444444444,
              "#bd3786"
             ],
             [
              0.5555555555555556,
              "#d8576b"
             ],
             [
              0.6666666666666666,
              "#ed7953"
             ],
             [
              0.7777777777777778,
              "#fb9f3a"
             ],
             [
              0.8888888888888888,
              "#fdca26"
             ],
             [
              1,
              "#f0f921"
             ]
            ],
            "type": "histogram2d"
           }
          ],
          "histogram2dcontour": [
           {
            "colorbar": {
             "outlinewidth": 0,
             "ticks": ""
            },
            "colorscale": [
             [
              0,
              "#0d0887"
             ],
             [
              0.1111111111111111,
              "#46039f"
             ],
             [
              0.2222222222222222,
              "#7201a8"
             ],
             [
              0.3333333333333333,
              "#9c179e"
             ],
             [
              0.4444444444444444,
              "#bd3786"
             ],
             [
              0.5555555555555556,
              "#d8576b"
             ],
             [
              0.6666666666666666,
              "#ed7953"
             ],
             [
              0.7777777777777778,
              "#fb9f3a"
             ],
             [
              0.8888888888888888,
              "#fdca26"
             ],
             [
              1,
              "#f0f921"
             ]
            ],
            "type": "histogram2dcontour"
           }
          ],
          "mesh3d": [
           {
            "colorbar": {
             "outlinewidth": 0,
             "ticks": ""
            },
            "type": "mesh3d"
           }
          ],
          "parcoords": [
           {
            "line": {
             "colorbar": {
              "outlinewidth": 0,
              "ticks": ""
             }
            },
            "type": "parcoords"
           }
          ],
          "pie": [
           {
            "automargin": true,
            "type": "pie"
           }
          ],
          "scatter": [
           {
            "fillpattern": {
             "fillmode": "overlay",
             "size": 10,
             "solidity": 0.2
            },
            "type": "scatter"
           }
          ],
          "scatter3d": [
           {
            "line": {
             "colorbar": {
              "outlinewidth": 0,
              "ticks": ""
             }
            },
            "marker": {
             "colorbar": {
              "outlinewidth": 0,
              "ticks": ""
             }
            },
            "type": "scatter3d"
           }
          ],
          "scattercarpet": [
           {
            "marker": {
             "colorbar": {
              "outlinewidth": 0,
              "ticks": ""
             }
            },
            "type": "scattercarpet"
           }
          ],
          "scattergeo": [
           {
            "marker": {
             "colorbar": {
              "outlinewidth": 0,
              "ticks": ""
             }
            },
            "type": "scattergeo"
           }
          ],
          "scattergl": [
           {
            "marker": {
             "colorbar": {
              "outlinewidth": 0,
              "ticks": ""
             }
            },
            "type": "scattergl"
           }
          ],
          "scattermapbox": [
           {
            "marker": {
             "colorbar": {
              "outlinewidth": 0,
              "ticks": ""
             }
            },
            "type": "scattermapbox"
           }
          ],
          "scatterpolar": [
           {
            "marker": {
             "colorbar": {
              "outlinewidth": 0,
              "ticks": ""
             }
            },
            "type": "scatterpolar"
           }
          ],
          "scatterpolargl": [
           {
            "marker": {
             "colorbar": {
              "outlinewidth": 0,
              "ticks": ""
             }
            },
            "type": "scatterpolargl"
           }
          ],
          "scatterternary": [
           {
            "marker": {
             "colorbar": {
              "outlinewidth": 0,
              "ticks": ""
             }
            },
            "type": "scatterternary"
           }
          ],
          "surface": [
           {
            "colorbar": {
             "outlinewidth": 0,
             "ticks": ""
            },
            "colorscale": [
             [
              0,
              "#0d0887"
             ],
             [
              0.1111111111111111,
              "#46039f"
             ],
             [
              0.2222222222222222,
              "#7201a8"
             ],
             [
              0.3333333333333333,
              "#9c179e"
             ],
             [
              0.4444444444444444,
              "#bd3786"
             ],
             [
              0.5555555555555556,
              "#d8576b"
             ],
             [
              0.6666666666666666,
              "#ed7953"
             ],
             [
              0.7777777777777778,
              "#fb9f3a"
             ],
             [
              0.8888888888888888,
              "#fdca26"
             ],
             [
              1,
              "#f0f921"
             ]
            ],
            "type": "surface"
           }
          ],
          "table": [
           {
            "cells": {
             "fill": {
              "color": "#EBF0F8"
             },
             "line": {
              "color": "white"
             }
            },
            "header": {
             "fill": {
              "color": "#C8D4E3"
             },
             "line": {
              "color": "white"
             }
            },
            "type": "table"
           }
          ]
         },
         "layout": {
          "annotationdefaults": {
           "arrowcolor": "#2a3f5f",
           "arrowhead": 0,
           "arrowwidth": 1
          },
          "autotypenumbers": "strict",
          "coloraxis": {
           "colorbar": {
            "outlinewidth": 0,
            "ticks": ""
           }
          },
          "colorscale": {
           "diverging": [
            [
             0,
             "#8e0152"
            ],
            [
             0.1,
             "#c51b7d"
            ],
            [
             0.2,
             "#de77ae"
            ],
            [
             0.3,
             "#f1b6da"
            ],
            [
             0.4,
             "#fde0ef"
            ],
            [
             0.5,
             "#f7f7f7"
            ],
            [
             0.6,
             "#e6f5d0"
            ],
            [
             0.7,
             "#b8e186"
            ],
            [
             0.8,
             "#7fbc41"
            ],
            [
             0.9,
             "#4d9221"
            ],
            [
             1,
             "#276419"
            ]
           ],
           "sequential": [
            [
             0,
             "#0d0887"
            ],
            [
             0.1111111111111111,
             "#46039f"
            ],
            [
             0.2222222222222222,
             "#7201a8"
            ],
            [
             0.3333333333333333,
             "#9c179e"
            ],
            [
             0.4444444444444444,
             "#bd3786"
            ],
            [
             0.5555555555555556,
             "#d8576b"
            ],
            [
             0.6666666666666666,
             "#ed7953"
            ],
            [
             0.7777777777777778,
             "#fb9f3a"
            ],
            [
             0.8888888888888888,
             "#fdca26"
            ],
            [
             1,
             "#f0f921"
            ]
           ],
           "sequentialminus": [
            [
             0,
             "#0d0887"
            ],
            [
             0.1111111111111111,
             "#46039f"
            ],
            [
             0.2222222222222222,
             "#7201a8"
            ],
            [
             0.3333333333333333,
             "#9c179e"
            ],
            [
             0.4444444444444444,
             "#bd3786"
            ],
            [
             0.5555555555555556,
             "#d8576b"
            ],
            [
             0.6666666666666666,
             "#ed7953"
            ],
            [
             0.7777777777777778,
             "#fb9f3a"
            ],
            [
             0.8888888888888888,
             "#fdca26"
            ],
            [
             1,
             "#f0f921"
            ]
           ]
          },
          "colorway": [
           "#636efa",
           "#EF553B",
           "#00cc96",
           "#ab63fa",
           "#FFA15A",
           "#19d3f3",
           "#FF6692",
           "#B6E880",
           "#FF97FF",
           "#FECB52"
          ],
          "font": {
           "color": "#2a3f5f"
          },
          "geo": {
           "bgcolor": "white",
           "lakecolor": "white",
           "landcolor": "#E5ECF6",
           "showlakes": true,
           "showland": true,
           "subunitcolor": "white"
          },
          "hoverlabel": {
           "align": "left"
          },
          "hovermode": "closest",
          "mapbox": {
           "style": "light"
          },
          "paper_bgcolor": "white",
          "plot_bgcolor": "#E5ECF6",
          "polar": {
           "angularaxis": {
            "gridcolor": "white",
            "linecolor": "white",
            "ticks": ""
           },
           "bgcolor": "#E5ECF6",
           "radialaxis": {
            "gridcolor": "white",
            "linecolor": "white",
            "ticks": ""
           }
          },
          "scene": {
           "xaxis": {
            "backgroundcolor": "#E5ECF6",
            "gridcolor": "white",
            "gridwidth": 2,
            "linecolor": "white",
            "showbackground": true,
            "ticks": "",
            "zerolinecolor": "white"
           },
           "yaxis": {
            "backgroundcolor": "#E5ECF6",
            "gridcolor": "white",
            "gridwidth": 2,
            "linecolor": "white",
            "showbackground": true,
            "ticks": "",
            "zerolinecolor": "white"
           },
           "zaxis": {
            "backgroundcolor": "#E5ECF6",
            "gridcolor": "white",
            "gridwidth": 2,
            "linecolor": "white",
            "showbackground": true,
            "ticks": "",
            "zerolinecolor": "white"
           }
          },
          "shapedefaults": {
           "line": {
            "color": "#2a3f5f"
           }
          },
          "ternary": {
           "aaxis": {
            "gridcolor": "white",
            "linecolor": "white",
            "ticks": ""
           },
           "baxis": {
            "gridcolor": "white",
            "linecolor": "white",
            "ticks": ""
           },
           "bgcolor": "#E5ECF6",
           "caxis": {
            "gridcolor": "white",
            "linecolor": "white",
            "ticks": ""
           }
          },
          "title": {
           "x": 0.05
          },
          "xaxis": {
           "automargin": true,
           "gridcolor": "white",
           "linecolor": "white",
           "ticks": "",
           "title": {
            "standoff": 15
           },
           "zerolinecolor": "white",
           "zerolinewidth": 2
          },
          "yaxis": {
           "automargin": true,
           "gridcolor": "white",
           "linecolor": "white",
           "ticks": "",
           "title": {
            "standoff": 15
           },
           "zerolinecolor": "white",
           "zerolinewidth": 2
          }
         }
        },
        "title": {
         "text": "Embodied Carbon Distribution by Material"
        }
       }
      }
     },
     "metadata": {},
     "output_type": "display_data"
    }
   ],
   "source": [
    "# Calculate total embodied carbon per material\n",
    "carbon_by_material = df.groupby(\"material\")[\"embodied_carbon\"].sum()\n",
    "\n",
    "# Plot pie chart\n",
    "fig = px.pie(\n",
    "    names=carbon_by_material.index,\n",
    "    values=carbon_by_material.values,\n",
    "    title=\"Embodied Carbon Distribution by Material\",\n",
    "    color_discrete_sequence=px.colors.sequential.RdBu\n",
    ")\n",
    "fig.update_traces(textinfo=\"percent+label\", pull=[0.1 if i == max(carbon_by_material.values) else 0 for i in carbon_by_material.values])\n",
    "fig.show()\n"
   ]
  },
  {
   "cell_type": "markdown",
   "metadata": {},
   "source": [
    "Pie Chart: Embodied Carbon by Level"
   ]
  },
  {
   "cell_type": "code",
   "execution_count": 30,
   "metadata": {},
   "outputs": [
    {
     "data": {
      "application/vnd.plotly.v1+json": {
       "config": {
        "plotlyServerURL": "https://plot.ly"
       },
       "data": [
        {
         "domain": {
          "x": [
           0,
           1
          ],
          "y": [
           0,
           1
          ]
         },
         "hovertemplate": "label=%{label}<br>value=%{value}<extra></extra>",
         "labels": [
          "1st Floor",
          "Basement",
          "Ground Floor",
          "Roof"
         ],
         "legendgroup": "",
         "name": "",
         "pull": [
          0,
          0.1,
          0,
          0
         ],
         "showlegend": true,
         "textinfo": "percent+label",
         "type": "pie",
         "values": [
          45572.840756966536,
          130066.61570755695,
          76192.70212416183,
          16458.67913023109
         ]
        }
       ],
       "layout": {
        "legend": {
         "tracegroupgap": 0
        },
        "piecolorway": [
         "rgb(209, 238, 234)",
         "rgb(168, 219, 217)",
         "rgb(133, 196, 201)",
         "rgb(104, 171, 184)",
         "rgb(79, 144, 166)",
         "rgb(59, 115, 143)",
         "rgb(42, 86, 116)"
        ],
        "template": {
         "data": {
          "bar": [
           {
            "error_x": {
             "color": "#2a3f5f"
            },
            "error_y": {
             "color": "#2a3f5f"
            },
            "marker": {
             "line": {
              "color": "#E5ECF6",
              "width": 0.5
             },
             "pattern": {
              "fillmode": "overlay",
              "size": 10,
              "solidity": 0.2
             }
            },
            "type": "bar"
           }
          ],
          "barpolar": [
           {
            "marker": {
             "line": {
              "color": "#E5ECF6",
              "width": 0.5
             },
             "pattern": {
              "fillmode": "overlay",
              "size": 10,
              "solidity": 0.2
             }
            },
            "type": "barpolar"
           }
          ],
          "carpet": [
           {
            "aaxis": {
             "endlinecolor": "#2a3f5f",
             "gridcolor": "white",
             "linecolor": "white",
             "minorgridcolor": "white",
             "startlinecolor": "#2a3f5f"
            },
            "baxis": {
             "endlinecolor": "#2a3f5f",
             "gridcolor": "white",
             "linecolor": "white",
             "minorgridcolor": "white",
             "startlinecolor": "#2a3f5f"
            },
            "type": "carpet"
           }
          ],
          "choropleth": [
           {
            "colorbar": {
             "outlinewidth": 0,
             "ticks": ""
            },
            "type": "choropleth"
           }
          ],
          "contour": [
           {
            "colorbar": {
             "outlinewidth": 0,
             "ticks": ""
            },
            "colorscale": [
             [
              0,
              "#0d0887"
             ],
             [
              0.1111111111111111,
              "#46039f"
             ],
             [
              0.2222222222222222,
              "#7201a8"
             ],
             [
              0.3333333333333333,
              "#9c179e"
             ],
             [
              0.4444444444444444,
              "#bd3786"
             ],
             [
              0.5555555555555556,
              "#d8576b"
             ],
             [
              0.6666666666666666,
              "#ed7953"
             ],
             [
              0.7777777777777778,
              "#fb9f3a"
             ],
             [
              0.8888888888888888,
              "#fdca26"
             ],
             [
              1,
              "#f0f921"
             ]
            ],
            "type": "contour"
           }
          ],
          "contourcarpet": [
           {
            "colorbar": {
             "outlinewidth": 0,
             "ticks": ""
            },
            "type": "contourcarpet"
           }
          ],
          "heatmap": [
           {
            "colorbar": {
             "outlinewidth": 0,
             "ticks": ""
            },
            "colorscale": [
             [
              0,
              "#0d0887"
             ],
             [
              0.1111111111111111,
              "#46039f"
             ],
             [
              0.2222222222222222,
              "#7201a8"
             ],
             [
              0.3333333333333333,
              "#9c179e"
             ],
             [
              0.4444444444444444,
              "#bd3786"
             ],
             [
              0.5555555555555556,
              "#d8576b"
             ],
             [
              0.6666666666666666,
              "#ed7953"
             ],
             [
              0.7777777777777778,
              "#fb9f3a"
             ],
             [
              0.8888888888888888,
              "#fdca26"
             ],
             [
              1,
              "#f0f921"
             ]
            ],
            "type": "heatmap"
           }
          ],
          "heatmapgl": [
           {
            "colorbar": {
             "outlinewidth": 0,
             "ticks": ""
            },
            "colorscale": [
             [
              0,
              "#0d0887"
             ],
             [
              0.1111111111111111,
              "#46039f"
             ],
             [
              0.2222222222222222,
              "#7201a8"
             ],
             [
              0.3333333333333333,
              "#9c179e"
             ],
             [
              0.4444444444444444,
              "#bd3786"
             ],
             [
              0.5555555555555556,
              "#d8576b"
             ],
             [
              0.6666666666666666,
              "#ed7953"
             ],
             [
              0.7777777777777778,
              "#fb9f3a"
             ],
             [
              0.8888888888888888,
              "#fdca26"
             ],
             [
              1,
              "#f0f921"
             ]
            ],
            "type": "heatmapgl"
           }
          ],
          "histogram": [
           {
            "marker": {
             "pattern": {
              "fillmode": "overlay",
              "size": 10,
              "solidity": 0.2
             }
            },
            "type": "histogram"
           }
          ],
          "histogram2d": [
           {
            "colorbar": {
             "outlinewidth": 0,
             "ticks": ""
            },
            "colorscale": [
             [
              0,
              "#0d0887"
             ],
             [
              0.1111111111111111,
              "#46039f"
             ],
             [
              0.2222222222222222,
              "#7201a8"
             ],
             [
              0.3333333333333333,
              "#9c179e"
             ],
             [
              0.4444444444444444,
              "#bd3786"
             ],
             [
              0.5555555555555556,
              "#d8576b"
             ],
             [
              0.6666666666666666,
              "#ed7953"
             ],
             [
              0.7777777777777778,
              "#fb9f3a"
             ],
             [
              0.8888888888888888,
              "#fdca26"
             ],
             [
              1,
              "#f0f921"
             ]
            ],
            "type": "histogram2d"
           }
          ],
          "histogram2dcontour": [
           {
            "colorbar": {
             "outlinewidth": 0,
             "ticks": ""
            },
            "colorscale": [
             [
              0,
              "#0d0887"
             ],
             [
              0.1111111111111111,
              "#46039f"
             ],
             [
              0.2222222222222222,
              "#7201a8"
             ],
             [
              0.3333333333333333,
              "#9c179e"
             ],
             [
              0.4444444444444444,
              "#bd3786"
             ],
             [
              0.5555555555555556,
              "#d8576b"
             ],
             [
              0.6666666666666666,
              "#ed7953"
             ],
             [
              0.7777777777777778,
              "#fb9f3a"
             ],
             [
              0.8888888888888888,
              "#fdca26"
             ],
             [
              1,
              "#f0f921"
             ]
            ],
            "type": "histogram2dcontour"
           }
          ],
          "mesh3d": [
           {
            "colorbar": {
             "outlinewidth": 0,
             "ticks": ""
            },
            "type": "mesh3d"
           }
          ],
          "parcoords": [
           {
            "line": {
             "colorbar": {
              "outlinewidth": 0,
              "ticks": ""
             }
            },
            "type": "parcoords"
           }
          ],
          "pie": [
           {
            "automargin": true,
            "type": "pie"
           }
          ],
          "scatter": [
           {
            "fillpattern": {
             "fillmode": "overlay",
             "size": 10,
             "solidity": 0.2
            },
            "type": "scatter"
           }
          ],
          "scatter3d": [
           {
            "line": {
             "colorbar": {
              "outlinewidth": 0,
              "ticks": ""
             }
            },
            "marker": {
             "colorbar": {
              "outlinewidth": 0,
              "ticks": ""
             }
            },
            "type": "scatter3d"
           }
          ],
          "scattercarpet": [
           {
            "marker": {
             "colorbar": {
              "outlinewidth": 0,
              "ticks": ""
             }
            },
            "type": "scattercarpet"
           }
          ],
          "scattergeo": [
           {
            "marker": {
             "colorbar": {
              "outlinewidth": 0,
              "ticks": ""
             }
            },
            "type": "scattergeo"
           }
          ],
          "scattergl": [
           {
            "marker": {
             "colorbar": {
              "outlinewidth": 0,
              "ticks": ""
             }
            },
            "type": "scattergl"
           }
          ],
          "scattermapbox": [
           {
            "marker": {
             "colorbar": {
              "outlinewidth": 0,
              "ticks": ""
             }
            },
            "type": "scattermapbox"
           }
          ],
          "scatterpolar": [
           {
            "marker": {
             "colorbar": {
              "outlinewidth": 0,
              "ticks": ""
             }
            },
            "type": "scatterpolar"
           }
          ],
          "scatterpolargl": [
           {
            "marker": {
             "colorbar": {
              "outlinewidth": 0,
              "ticks": ""
             }
            },
            "type": "scatterpolargl"
           }
          ],
          "scatterternary": [
           {
            "marker": {
             "colorbar": {
              "outlinewidth": 0,
              "ticks": ""
             }
            },
            "type": "scatterternary"
           }
          ],
          "surface": [
           {
            "colorbar": {
             "outlinewidth": 0,
             "ticks": ""
            },
            "colorscale": [
             [
              0,
              "#0d0887"
             ],
             [
              0.1111111111111111,
              "#46039f"
             ],
             [
              0.2222222222222222,
              "#7201a8"
             ],
             [
              0.3333333333333333,
              "#9c179e"
             ],
             [
              0.4444444444444444,
              "#bd3786"
             ],
             [
              0.5555555555555556,
              "#d8576b"
             ],
             [
              0.6666666666666666,
              "#ed7953"
             ],
             [
              0.7777777777777778,
              "#fb9f3a"
             ],
             [
              0.8888888888888888,
              "#fdca26"
             ],
             [
              1,
              "#f0f921"
             ]
            ],
            "type": "surface"
           }
          ],
          "table": [
           {
            "cells": {
             "fill": {
              "color": "#EBF0F8"
             },
             "line": {
              "color": "white"
             }
            },
            "header": {
             "fill": {
              "color": "#C8D4E3"
             },
             "line": {
              "color": "white"
             }
            },
            "type": "table"
           }
          ]
         },
         "layout": {
          "annotationdefaults": {
           "arrowcolor": "#2a3f5f",
           "arrowhead": 0,
           "arrowwidth": 1
          },
          "autotypenumbers": "strict",
          "coloraxis": {
           "colorbar": {
            "outlinewidth": 0,
            "ticks": ""
           }
          },
          "colorscale": {
           "diverging": [
            [
             0,
             "#8e0152"
            ],
            [
             0.1,
             "#c51b7d"
            ],
            [
             0.2,
             "#de77ae"
            ],
            [
             0.3,
             "#f1b6da"
            ],
            [
             0.4,
             "#fde0ef"
            ],
            [
             0.5,
             "#f7f7f7"
            ],
            [
             0.6,
             "#e6f5d0"
            ],
            [
             0.7,
             "#b8e186"
            ],
            [
             0.8,
             "#7fbc41"
            ],
            [
             0.9,
             "#4d9221"
            ],
            [
             1,
             "#276419"
            ]
           ],
           "sequential": [
            [
             0,
             "#0d0887"
            ],
            [
             0.1111111111111111,
             "#46039f"
            ],
            [
             0.2222222222222222,
             "#7201a8"
            ],
            [
             0.3333333333333333,
             "#9c179e"
            ],
            [
             0.4444444444444444,
             "#bd3786"
            ],
            [
             0.5555555555555556,
             "#d8576b"
            ],
            [
             0.6666666666666666,
             "#ed7953"
            ],
            [
             0.7777777777777778,
             "#fb9f3a"
            ],
            [
             0.8888888888888888,
             "#fdca26"
            ],
            [
             1,
             "#f0f921"
            ]
           ],
           "sequentialminus": [
            [
             0,
             "#0d0887"
            ],
            [
             0.1111111111111111,
             "#46039f"
            ],
            [
             0.2222222222222222,
             "#7201a8"
            ],
            [
             0.3333333333333333,
             "#9c179e"
            ],
            [
             0.4444444444444444,
             "#bd3786"
            ],
            [
             0.5555555555555556,
             "#d8576b"
            ],
            [
             0.6666666666666666,
             "#ed7953"
            ],
            [
             0.7777777777777778,
             "#fb9f3a"
            ],
            [
             0.8888888888888888,
             "#fdca26"
            ],
            [
             1,
             "#f0f921"
            ]
           ]
          },
          "colorway": [
           "#636efa",
           "#EF553B",
           "#00cc96",
           "#ab63fa",
           "#FFA15A",
           "#19d3f3",
           "#FF6692",
           "#B6E880",
           "#FF97FF",
           "#FECB52"
          ],
          "font": {
           "color": "#2a3f5f"
          },
          "geo": {
           "bgcolor": "white",
           "lakecolor": "white",
           "landcolor": "#E5ECF6",
           "showlakes": true,
           "showland": true,
           "subunitcolor": "white"
          },
          "hoverlabel": {
           "align": "left"
          },
          "hovermode": "closest",
          "mapbox": {
           "style": "light"
          },
          "paper_bgcolor": "white",
          "plot_bgcolor": "#E5ECF6",
          "polar": {
           "angularaxis": {
            "gridcolor": "white",
            "linecolor": "white",
            "ticks": ""
           },
           "bgcolor": "#E5ECF6",
           "radialaxis": {
            "gridcolor": "white",
            "linecolor": "white",
            "ticks": ""
           }
          },
          "scene": {
           "xaxis": {
            "backgroundcolor": "#E5ECF6",
            "gridcolor": "white",
            "gridwidth": 2,
            "linecolor": "white",
            "showbackground": true,
            "ticks": "",
            "zerolinecolor": "white"
           },
           "yaxis": {
            "backgroundcolor": "#E5ECF6",
            "gridcolor": "white",
            "gridwidth": 2,
            "linecolor": "white",
            "showbackground": true,
            "ticks": "",
            "zerolinecolor": "white"
           },
           "zaxis": {
            "backgroundcolor": "#E5ECF6",
            "gridcolor": "white",
            "gridwidth": 2,
            "linecolor": "white",
            "showbackground": true,
            "ticks": "",
            "zerolinecolor": "white"
           }
          },
          "shapedefaults": {
           "line": {
            "color": "#2a3f5f"
           }
          },
          "ternary": {
           "aaxis": {
            "gridcolor": "white",
            "linecolor": "white",
            "ticks": ""
           },
           "baxis": {
            "gridcolor": "white",
            "linecolor": "white",
            "ticks": ""
           },
           "bgcolor": "#E5ECF6",
           "caxis": {
            "gridcolor": "white",
            "linecolor": "white",
            "ticks": ""
           }
          },
          "title": {
           "x": 0.05
          },
          "xaxis": {
           "automargin": true,
           "gridcolor": "white",
           "linecolor": "white",
           "ticks": "",
           "title": {
            "standoff": 15
           },
           "zerolinecolor": "white",
           "zerolinewidth": 2
          },
          "yaxis": {
           "automargin": true,
           "gridcolor": "white",
           "linecolor": "white",
           "ticks": "",
           "title": {
            "standoff": 15
           },
           "zerolinecolor": "white",
           "zerolinewidth": 2
          }
         }
        },
        "title": {
         "text": "Embodied Carbon Distribution by Level"
        }
       }
      }
     },
     "metadata": {},
     "output_type": "display_data"
    }
   ],
   "source": [
    "# Calculate total embodied carbon per level\n",
    "carbon_by_level = df.groupby(\"level\")[\"embodied_carbon\"].sum()\n",
    "\n",
    "# Plot pie chart\n",
    "fig = px.pie(\n",
    "    names=carbon_by_level.index,\n",
    "    values=carbon_by_level.values,\n",
    "    title=\"Embodied Carbon Distribution by Level\",\n",
    "    color_discrete_sequence=px.colors.sequential.Teal\n",
    ")\n",
    "fig.update_traces(textinfo=\"percent+label\", pull=[0.1 if i == max(carbon_by_level.values) else 0 for i in carbon_by_level.values])\n",
    "fig.show()"
   ]
  },
  {
   "cell_type": "markdown",
   "metadata": {},
   "source": [
    "Bar Chart: Embodied Carbon by Category"
   ]
  },
  {
   "cell_type": "code",
   "execution_count": 31,
   "metadata": {},
   "outputs": [
    {
     "name": "stderr",
     "output_type": "stream",
     "text": [
      "C:\\Users\\stein\\AppData\\Roaming\\Python\\Python312\\site-packages\\IPython\\core\\pylabtools.py:170: UserWarning:\n",
      "\n",
      "Glyph 8322 (\\N{SUBSCRIPT TWO}) missing from font(s) Arial.\n",
      "\n"
     ]
    },
    {
     "data": {
      "image/png": "[encoded data removed]",
      "text/plain": [
       "<Figure size 1000x600 with 1 Axes>"
      ]
     },
     "metadata": {},
     "output_type": "display_data"
    }
   ],
   "source": [
    "# Calculate total embodied carbon per category\n",
    "carbon_by_category = df.groupby(\"category\")[\"embodied_carbon\"].sum().sort_values()\n",
    "\n",
    "# Plot bar chart with updated 'hue' handling and font fixes\n",
    "plt.figure(figsize=(10, 6))\n",
    "sns.barplot(x=carbon_by_category, y=carbon_by_category.index, hue=carbon_by_category.index, palette=\"viridis\")\n",
    "plt.title(\"Embodied Carbon by Category\")\n",
    "plt.xlabel(\"Total Embodied Carbon (kg CO₂e)\")\n",
    "plt.ylabel(\"Category\")\n",
    "\n",
    "# Fix missing glyph warning by changing font to one that supports subscript characters\n",
    "plt.rcParams[\"font.family\"] = \"DejaVu Sans\"  # A font that supports subscript/superscript\n",
    "\n",
    "plt.show()"
   ]
  },
  {
   "cell_type": "markdown",
   "metadata": {},
   "source": [
    "Stacked Bar Chart: Embodied Carbon per Material for Each Level"
   ]
  },
  {
   "cell_type": "code",
   "execution_count": 32,
   "metadata": {},
   "outputs": [
    {
     "data": {
      "image/png": "[encoded data removed]",
      "text/plain": [
       "<Figure size 1000x600 with 1 Axes>"
      ]
     },
     "metadata": {},
     "output_type": "display_data"
    }
   ],
   "source": [
    "# Calculate total embodied carbon per material per level\n",
    "carbon_material_level = df.groupby([\"level\", \"material\"])[\"embodied_carbon\"].sum().unstack()\n",
    "\n",
    "# Plot stacked bar chart\n",
    "carbon_material_level.plot(kind=\"bar\", stacked=True, colormap=\"coolwarm\", figsize=(10, 6))\n",
    "plt.title(\"Embodied Carbon per Material Across Levels\")\n",
    "plt.xlabel(\"Level\")\n",
    "plt.ylabel(\"Embodied Carbon (kg CO₂e)\")\n",
    "plt.legend(title=\"Material\", bbox_to_anchor=(1.05, 1), loc=\"upper left\")\n",
    "plt.show()\n"
   ]
  }
 ],
 "metadata": {
  "kernelspec": {
   "display_name": "Python 3",
   "language": "python",
   "name": "python3"
  },
  "language_info": {
   "codemirror_mode": {
    "name": "ipython",
    "version": 3
   },
   "file_extension": ".py",
   "mimetype": "text/x-python",
   "name": "python",
   "nbconvert_exporter": "python",
   "pygments_lexer": "ipython3",
   "version": "3.12.4"
  }
 },
 "nbformat": 4,
 "nbformat_minor": 2
}
