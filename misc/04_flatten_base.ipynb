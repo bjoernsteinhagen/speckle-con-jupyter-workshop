{
 "cells": [
  {
   "cell_type": "markdown",
   "metadata": {},
   "source": [
    "## 🗜 Flatten!\n",
    "Sometimes deeply nested commits can be annoying ..."
   ]
  },
  {
   "cell_type": "code",
   "execution_count": null,
   "metadata": {},
   "outputs": [],
   "source": [
    "# Import required libraries\n",
    "from specklepy.api.client import SpeckleClient\n",
    "from specklepy.core.api import operations\n",
    "from specklepy.transports.server import ServerTransport\n",
    "from IPython.display import IFrame\n",
    "\n",
    "# Define global variables \n",
    "HOST = \"https://app.speckle.systems/\"\n",
    "AUTHENTICATION_TOKEN = \"\"\n",
    "STREAM_ID = \"\"\n",
    "BRANCH_NAME = \"\"\n",
    "\n",
    "# Setting up SpeckleClient and authenticating\n",
    "client = SpeckleClient(host=HOST)\n",
    "client.authenticate_with_token(token=AUTHENTICATION_TOKEN)\n",
    "\n",
    "# Receving commit\n",
    "transport = ServerTransport(STREAM_ID, client)\n",
    "branch = client.branch.get(stream_id=STREAM_ID, name=BRANCH_NAME)\n",
    "model_data = operations.receive(branch.commits.items[0].referencedObject, transport)\n"
   ]
  },
  {
   "cell_type": "code",
   "execution_count": null,
   "metadata": {},
   "outputs": [],
   "source": [
    "\"\"\"Helper module for a simple speckle object tree flattening.\"\"\"\n",
    "\n",
    "from collections.abc import Iterable\n",
    "from typing import Any\n",
    "\n",
    "from specklepy.objects import Base\n",
    "\n",
    "\n",
    "def flatten_base(base: Base) -> Iterable[Base]:\n",
    "    \"\"\"Flatten a base object into an iterable of bases.\n",
    "    \n",
    "    This function recursively traverses any attribute that starts with '@' in the\n",
    "    base object, yielding each nested base object found within those attributes.\n",
    "\n",
    "    Args:\n",
    "        base (Base): The base object to flatten.\n",
    "\n",
    "    Yields:\n",
    "        Base: Each nested base object in the hierarchy.\n",
    "    \"\"\"\n",
    "    def _get_elements_from_attr(obj: Any) -> list[Base]:\n",
    "        \"\"\"Helper function to get Base objects from an attribute value.\"\"\"\n",
    "        if isinstance(obj, (list, tuple)):\n",
    "            return [item for item in obj if isinstance(item, Base)]\n",
    "        elif isinstance(obj, Base):\n",
    "            return [obj]\n",
    "        return []\n",
    "\n",
    "    # Get all attributes that start with '@'\n",
    "    at_attributes = [attr for attr in dir(base) if attr.startswith('@')]\n",
    "    \n",
    "    # Process each @ attribute\n",
    "    for attr in at_attributes:\n",
    "        elements = getattr(base, attr, None)\n",
    "        if elements is not None:\n",
    "            # Get all Base objects from this attribute\n",
    "            base_elements = _get_elements_from_attr(elements)\n",
    "            # Recursively process each Base object\n",
    "            for element in base_elements:\n",
    "                yield from flatten_base(element)\n",
    "    \n",
    "    yield base"
   ]
  },
  {
   "cell_type": "code",
   "execution_count": null,
   "metadata": {},
   "outputs": [],
   "source": [
    "flattened_base = flatten_base(model_data)\n",
    "for object in flattened_base:\n",
    "    print(object)\n",
    "    break"
   ]
  },
  {
   "cell_type": "code",
   "execution_count": null,
   "metadata": {},
   "outputs": [],
   "source": [
    "flatten_base = flatten_base(model_data)\n",
    "for object in flatten_base:\n",
    "    print(object)\n",
    "    break"
   ]
  }
 ],
 "metadata": {
  "kernelspec": {
   "display_name": "Python 3",
   "language": "python",
   "name": "python3"
  },
  "language_info": {
   "codemirror_mode": {
    "name": "ipython",
    "version": 3
   },
   "file_extension": ".py",
   "mimetype": "text/x-python",
   "name": "python",
   "nbconvert_exporter": "python",
   "pygments_lexer": "ipython3",
   "version": "3.12.4"
  }
 },
 "nbformat": 4,
 "nbformat_minor": 2
}
