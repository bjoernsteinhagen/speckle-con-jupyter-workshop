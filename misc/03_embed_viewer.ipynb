{
 "cells": [
  {
   "cell_type": "markdown",
   "metadata": {},
   "source": [
    "## 🖥️ Embedding the Viewer\n",
    "Going through project setup, authentication and deserializing a little quicker.\n",
    "Assuming the required packages are already installed."
   ]
  },
  {
   "cell_type": "markdown",
   "metadata": {},
   "source": [
    "#### 🏃 Step 01 - Receiving commit in a condensed fashion"
   ]
  },
  {
   "cell_type": "code",
   "execution_count": null,
   "metadata": {},
   "outputs": [],
   "source": [
    "# Import required libraries\n",
    "from specklepy.api.client import SpeckleClient\n",
    "from specklepy.core.api import operations\n",
    "from specklepy.transports.server import ServerTransport\n",
    "from IPython.display import IFrame\n",
    "\n",
    "# Define global variables \n",
    "HOST = \"https://app.speckle.systems/\"\n",
    "AUTHENTICATION_TOKEN = \"\"\n",
    "STREAM_ID = \"\"\n",
    "BRANCH_NAME = \"\"\n",
    "\n",
    "# Setting up SpeckleClient and authenticating\n",
    "client = SpeckleClient(host=HOST)\n",
    "client.authenticate_with_token(token=AUTHENTICATION_TOKEN)\n",
    "\n",
    "# Receving commit\n",
    "transport = ServerTransport(STREAM_ID, client)\n",
    "branch = client.branch.get(stream_id=STREAM_ID, name=BRANCH_NAME)\n",
    "model_data = operations.receive(branch.commits.items[0].referencedObject, transport)\n"
   ]
  },
  {
   "cell_type": "markdown",
   "metadata": {},
   "source": [
    "#### 🖥️ Step 02 - One-liner to get viewer ... really??"
   ]
  },
  {
   "cell_type": "code",
   "execution_count": null,
   "metadata": {},
   "outputs": [],
   "source": [
    "IFrame(src= f\"{HOST}projects/{STREAM_ID}/models/{branch.id}#embed=%7B%22isEnabled%22%3Atrue%7D\", width=800, height=800)"
   ]
  }
 ],
 "metadata": {
  "kernelspec": {
   "display_name": "Python 3",
   "language": "python",
   "name": "python3"
  },
  "language_info": {
   "codemirror_mode": {
    "name": "ipython",
    "version": 3
   },
   "file_extension": ".py",
   "mimetype": "text/x-python",
   "name": "python",
   "nbconvert_exporter": "python",
   "pygments_lexer": "ipython3",
   "version": "3.12.4"
  }
 },
 "nbformat": 4,
 "nbformat_minor": 2
}
