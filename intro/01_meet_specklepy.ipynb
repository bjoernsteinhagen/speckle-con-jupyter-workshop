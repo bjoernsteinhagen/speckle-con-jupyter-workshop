{
 "cells": [
  {
   "cell_type": "markdown",
   "metadata": {},
   "source": [
    "## 👋 Hacking the Speckle Matrix - Meet specklepy\n",
    "The Python SDK can be found here: https://github.com/specklesystems/specklepy, with docs here: https://speckle.guide/dev/python.html"
   ]
  },
  {
   "cell_type": "markdown",
   "metadata": {},
   "source": [
    "#### 📇 Step 01 - Define project variables"
   ]
  },
  {
   "cell_type": "markdown",
   "metadata": {},
   "source": [
    "**Nomenclature** - Arguments for SpeckleClient"
   ]
  },
  {
   "cell_type": "markdown",
   "metadata": {},
   "source": [
    "![alt text](<images/Nomenclature 01.png>)"
   ]
  },
  {
   "cell_type": "markdown",
   "metadata": {},
   "source": [
    "**Personal access token** - https://speckle.guide/dev/tokens.html"
   ]
  },
  {
   "cell_type": "code",
   "execution_count": null,
   "metadata": {},
   "outputs": [],
   "source": [
    "HOST = \"https://app.speckle.systems/\"\n",
    "AUTHENTICATION_TOKEN = \"\"\n",
    "STREAM_ID = \"\""
   ]
  },
  {
   "cell_type": "markdown",
   "metadata": {},
   "source": [
    "#### 📚 Step 02 - Installing / importing required libraries"
   ]
  },
  {
   "cell_type": "code",
   "execution_count": null,
   "metadata": {},
   "outputs": [],
   "source": [
    "import os, importlib\n",
    "PYTHON_SDK = \"specklepy\"\n",
    "\n",
    "try:\n",
    "    importlib.import_module(PYTHON_SDK)\n",
    "except ImportError:\n",
    "        # If not installed, install the package\n",
    "        print(f\"{PYTHON_SDK} not found. Installing...\")\n",
    "        os.system(f\"pip install {PYTHON_SDK}\")\n",
    "        # Retry import after installation\n",
    "        importlib.import_module(PYTHON_SDK)"
   ]
  },
  {
   "cell_type": "markdown",
   "metadata": {},
   "source": [
    "#### 👔 Step 03 - Introduce the SpeckleClient"
   ]
  },
  {
   "cell_type": "code",
   "execution_count": null,
   "metadata": {},
   "outputs": [],
   "source": [
    "from specklepy.api.client import SpeckleClient\n",
    "from specklepy.core.api import operations\n",
    "from specklepy.transports.server import ServerTransport\n",
    "\n",
    "client = SpeckleClient(host=HOST)\n",
    "client.authenticate_with_token(token=AUTHENTICATION_TOKEN)\n",
    "transport = ServerTransport(stream_id=STREAM_ID, client=client)"
   ]
  },
  {
   "cell_type": "markdown",
   "metadata": {},
   "source": [
    "#### 🌴 Step 04 - Get a branch"
   ]
  },
  {
   "cell_type": "code",
   "execution_count": null,
   "metadata": {},
   "outputs": [],
   "source": [
    "branch = client.branch.get(stream_id=STREAM_ID, name=\"\")"
   ]
  },
  {
   "cell_type": "markdown",
   "metadata": {},
   "source": [
    "#### 📥 Step 05 - Receive and deserialize"
   ]
  },
  {
   "cell_type": "code",
   "execution_count": null,
   "metadata": {},
   "outputs": [],
   "source": [
    "model_object_id = branch.commits.items[0].referencedObject\n",
    "model_data = operations.receive(obj_id=model_object_id, remote_transport=transport)"
   ]
  },
  {
   "cell_type": "code",
   "execution_count": null,
   "metadata": {},
   "outputs": [],
   "source": [
    "print(f\"id\\t\\t:\\t{model_data.id}\")\n",
    "print(f\"name\\t\\t:\\t{model_data.name}\")\n",
    "print(f\"speckle_type\\t:\\t{model_data.speckle_type}\")"
   ]
  }
 ],
 "metadata": {
  "kernelspec": {
   "display_name": "Python 3",
   "language": "python",
   "name": "python3"
  },
  "language_info": {
   "codemirror_mode": {
    "name": "ipython",
    "version": 3
   },
   "file_extension": ".py",
   "mimetype": "text/x-python",
   "name": "python",
   "nbconvert_exporter": "python",
   "pygments_lexer": "ipython3",
   "version": "3.12.4"
  }
 },
 "nbformat": 4,
 "nbformat_minor": 2
}
