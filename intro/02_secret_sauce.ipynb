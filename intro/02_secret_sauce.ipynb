{
 "cells": [
  {
   "cell_type": "markdown",
   "metadata": {},
   "source": [
    "## 👩‍🍳 The Secret Sauce to Speckle Data Connections\n",
    "The Python SDK can be found here: https://github.com/specklesystems/specklepy, with docs here: https://speckle.guide/dev/python.html"
   ]
  },
  {
   "cell_type": "markdown",
   "metadata": {},
   "source": [
    "#### 📇 Step 01 - Define project variables"
   ]
  },
  {
   "cell_type": "code",
   "execution_count": null,
   "metadata": {},
   "outputs": [],
   "source": [
    "HOST = \"https://app.speckle.systems/\"\n",
    "AUTHENTICATION_TOKEN = \"\""
   ]
  },
  {
   "cell_type": "markdown",
   "metadata": {},
   "source": [
    "#### 📚 Step 02 - Checking availability of required libraries and install (if req.)"
   ]
  },
  {
   "cell_type": "code",
   "execution_count": null,
   "metadata": {},
   "outputs": [],
   "source": [
    "import importlib\n",
    "import subprocess\n",
    "import sys\n",
    "\n",
    "additional_libraries = [\"specklepy\", \"ipywidgets\", \"matplotlib\", \"seaborn\", \"plotly\"]\n",
    "\n",
    "for library in additional_libraries:\n",
    "    try:\n",
    "        # Try importing the library\n",
    "        importlib.import_module(library)\n",
    "    except ImportError:\n",
    "        print(f\"{library} not found. Installing...\")\n",
    "        # Install the library using subprocess\n",
    "        subprocess.check_call([sys.executable, \"-m\", \"pip\", \"install\", library])\n",
    "        # Retry import after installation\n",
    "        globals()[library] = importlib.import_module(library)"
   ]
  },
  {
   "cell_type": "markdown",
   "metadata": {},
   "source": [
    "#### 👔 Step 03 - Introduce the SpeckleClient"
   ]
  },
  {
   "cell_type": "code",
   "execution_count": null,
   "metadata": {},
   "outputs": [],
   "source": [
    "from specklepy.api.client import SpeckleClient\n",
    "from specklepy.core.api import operations\n",
    "from specklepy.transports.server import ServerTransport\n",
    "\n",
    "client = SpeckleClient(host=HOST)\n",
    "client.authenticate_with_token(token=AUTHENTICATION_TOKEN)"
   ]
  },
  {
   "cell_type": "markdown",
   "metadata": {},
   "source": [
    "#### 🧐 Step 04 - Fancy Widgets"
   ]
  },
  {
   "cell_type": "code",
   "execution_count": null,
   "metadata": {},
   "outputs": [],
   "source": [
    "import ipywidgets as widgets\n",
    "from IPython.display import display\n",
    "\n",
    "# Fetch the list of streams\n",
    "streams = client.stream.list()\n",
    "stream_options = {stream.name: stream.id for stream in streams}\n",
    "\n",
    "# Create a dropdown for streams\n",
    "stream_dropdown = widgets.Dropdown(\n",
    "    options=stream_options,\n",
    "    description='Stream:',\n",
    "    value=list(stream_options.values())[0]  # Default to the first stream\n",
    ")\n",
    "\n",
    "# Label widget to display the selected stream ID\n",
    "stream_id_label = widgets.Label(value=f\"Selected Stream ID: {stream_dropdown.value}\")\n",
    "\n",
    "# Define a function to update branch dropdown and stream ID label based on selected stream\n",
    "def update_branch_options(change):\n",
    "    selected_stream_id = change['new']\n",
    "    branches = client.branch.list(selected_stream_id)\n",
    "    branch_options = {branch.name: branch.name for branch in branches}\n",
    "    branch_dropdown.options = branch_options\n",
    "    \n",
    "    # Update the stream ID label\n",
    "    stream_id_label.value = f\"Selected Stream ID: {selected_stream_id}\"\n",
    "\n",
    "# Fetch branches for the initially selected stream\n",
    "initial_branches = client.branch.list(stream_dropdown.value)\n",
    "branch_options = {branch.name: branch.name for branch in initial_branches}\n",
    "\n",
    "# Create a dropdown for branches\n",
    "branch_dropdown = widgets.Dropdown(\n",
    "    options=branch_options,\n",
    "    description='Branch:',\n",
    "    value=list(branch_options.values())[0]  # Default to the first branch\n",
    ")\n",
    "\n",
    "# Link the stream dropdown to update branches and the stream ID label when a new stream is selected\n",
    "stream_dropdown.observe(update_branch_options, names='value')\n",
    "\n",
    "# Display the dropdowns and the stream ID label\n",
    "display(stream_dropdown, stream_id_label, branch_dropdown)"
   ]
  },
  {
   "cell_type": "markdown",
   "metadata": {},
   "source": [
    "#### ⚙️ Step 05 - Use widget outputs"
   ]
  },
  {
   "cell_type": "code",
   "execution_count": null,
   "metadata": {},
   "outputs": [],
   "source": [
    "selected_stream_id = stream_dropdown.value\n",
    "selected_branch_name = branch_dropdown.value\n",
    "transport = ServerTransport(selected_stream_id, client) "
   ]
  },
  {
   "cell_type": "code",
   "execution_count": null,
   "metadata": {},
   "outputs": [],
   "source": [
    "branch = client.branch.get(stream_id=selected_stream_id, name=selected_branch_name)\n",
    "if branch.commits.items:\n",
    "    model_data = operations.receive(branch.commits.items[0].referencedObject, transport)\n",
    "    model_data.get_member_names()\n",
    "else:\n",
    "    print(\"Model has no commits.\")"
   ]
  }
 ],
 "metadata": {
  "kernelspec": {
   "display_name": "Python 3",
   "language": "python",
   "name": "python3"
  },
  "language_info": {
   "codemirror_mode": {
    "name": "ipython",
    "version": 3
   },
   "file_extension": ".py",
   "mimetype": "text/x-python",
   "name": "python",
   "nbconvert_exporter": "python",
   "pygments_lexer": "ipython3",
   "version": "3.12.4"
  }
 },
 "nbformat": 4,
 "nbformat_minor": 2
}
